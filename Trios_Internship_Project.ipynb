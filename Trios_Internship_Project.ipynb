{
  "nbformat": 4,
  "nbformat_minor": 0,
  "metadata": {
    "colab": {
      "provenance": [],
      "include_colab_link": true
    },
    "kernelspec": {
      "name": "python3",
      "display_name": "Python 3"
    },
    "language_info": {
      "name": "python"
    }
  },
  "cells": [
    {
      "cell_type": "markdown",
      "metadata": {
        "id": "view-in-github",
        "colab_type": "text"
      },
      "source": [
        "<a href=\"https://colab.research.google.com/github/aswinkj2006/RUN/blob/main/Trios_Internship_Project.ipynb\" target=\"_parent\"><img src=\"https://colab.research.google.com/assets/colab-badge.svg\" alt=\"Open In Colab\"/></a>"
      ]
    },
    {
      "cell_type": "markdown",
      "source": [
        "# **Project Name**    - **CSAT Analysis**\n",
        "\n",
        "\n"
      ],
      "metadata": {
        "id": "vncDsAP0Gaoa"
      }
    },
    {
      "cell_type": "markdown",
      "source": [
        "##### **Project Type**    - Data Analysis ( EDA )\n",
        "##### **Contribution**    - Team\n",
        "\n",
        "##### **Team Member 1 - Aswin K J**\n",
        "##### **Team Member 2 - Aravinth P**\n",
        "##### **Team Member 3 - Bavish M A**\n",
        "##### **Team Member 4 - Barath**\n",
        "##### **Team Member 5 - Megha S B**\n",
        "##### **Team Member 6 - Mirula A**"
      ],
      "metadata": {
        "id": "beRrZCGUAJYm"
      }
    },
    {
      "cell_type": "markdown",
      "source": [
        "# **Project Summary**"
      ],
      "metadata": {
        "id": "FJNUwmbgGyua"
      }
    },
    {
      "cell_type": "markdown",
      "source": [
        "### The customer service data given to us was thoroughly analyzed using Python, leveraging libraries like Matplotlib and Seaborn. The focus was on key aspects such as Agents, Managers, Supervisors, Tenure Buckets, Shifts, and Response Times.\n",
        "\n",
        "## Key Findings:\n",
        "\n",
        "* **Overall CSAT Distribution:** The majority of CSAT scores are at the highest level (5), but there’s also a notable number of 1-star ratings, showing a polarization in customer sentiment. Scores of 4, 3, and 2 follow a mixed trend, indicating a wide range of customer experiences.\n",
        "\n",
        "* **Response Time:** A clear pattern shows that quicker responses tend to receive better CSAT scores. As response time increases, satisfaction generally decreases, emphasizing the need to respond faster to enhance customer experience.\n",
        "\n",
        "* **Channel of Communication:** Email-based support consistently receives lower average CSAT scores compared to Outcall and Inbound channels. This highlights the need to improve email support processes or train agents better in handling email communications.\n",
        "\n",
        "* **Agent Performance:** There’s a strong difference between high and low-performing agents in terms of CSAT. Identifying and supporting low performers with the right training is crucial to boost overall satisfaction levels.\n",
        "\n",
        "* **Manager Performance:** Most managers maintain decent CSAT scores, but a few fall short. Understanding the practices of lower-scoring managers could uncover gaps and offer opportunities for leadership improvement.\n",
        "\n",
        "* **Agent Tenure Buckets:** \"On Job Training\" agents have the highest 1-star score ratio and the lowest 5-star ratio. Interestingly, agents with a \"61-90\" day tenure perform best, showing the lowest 1-star and highest 5-star ratios. Agents with over 90 days of experience surprisingly show a slight uptick in 1-star ratings, pointing to the need for ongoing support and supervision, even for seasoned agents.\n",
        "\n",
        "* **Shifts:** The Morning and Evening shifts handle the most volume and also show high counts of 1-star CSATs. Strategically placing top-performing agents during these shifts could significantly reduce negative feedback and improve overall scores.\n",
        "\n",
        "* **Handling Time:** Quick interactions sometimes lead to low CSAT, likely due to incomplete resolutions. However, longer durations don’t always guarantee satisfaction either. This shows that resolution quality matters more than speed. Both new and experienced agents were found contributing to low CSATs in short interactions, suggesting the need to focus on problem resolution skills.\n",
        "\n",
        "* **Supervisor Analysis (Oliver Nguyen Example):** A closer look at agents under Oliver Nguyen, a supervisor with below-average CSAT, revealed that while some agents performed well, others dragged down the team’s overall performance. This underlines the value of targeted agent training and potentially some supervisory coaching to elevate team outcomes.\n",
        "\n",
        "* **Additional Research:** Deeper investigation into supervisors and agents within the >90-day Tenure Bucket pointed out exactly which individuals need support the most. Prioritizing their training and mentorship could have a strong positive impact on CSAT trends.\n",
        "\n",
        "## Conclusion:\n",
        "\n",
        "Improving CSAT score demands a well-rounded approach. Speeding up response times, enhancing the email channel, giving personalized support to underperforming agents, shifting top talent to high-volume shifts, and focusing on the quality of resolutions are all essential steps. Continued supervision and tailored training for both new and experienced agents will be key to driving long-term improvement in customer satisfaction.\n"
      ],
      "metadata": {
        "id": "F6v_1wHtG2nS"
      }
    },
    {
      "cell_type": "markdown",
      "source": [
        "# **Problem Statement**\n"
      ],
      "metadata": {
        "id": "yQaldy8SH6Dl"
      }
    },
    {
      "cell_type": "markdown",
      "source": [
        "The objective of this project is to analyze customer support interaction data from the given data in order to identify key factors influencing Customer Satisfaction (CSAT) scores. The goal is to uncover actionable insights related to agent performance, response and handling times, tenure, shift timings, support channels, and supervisory impact. By understanding the patterns and drivers behind low and high CSAT ratings, this analysis aims to recommend data-driven strategies to improve overall service quality, optimize support workflows, and enhance customer experience across the platform.\n",
        "\n"
      ],
      "metadata": {
        "id": "DpeJGUA3kjGy"
      }
    },
    {
      "cell_type": "markdown",
      "source": [
        "# ***Let's Begin !***"
      ],
      "metadata": {
        "id": "O_i_v8NEhb9l"
      }
    },
    {
      "cell_type": "markdown",
      "source": [
        "## ***1. Know Your Data***"
      ],
      "metadata": {
        "id": "HhfV-JJviCcP"
      }
    },
    {
      "cell_type": "markdown",
      "source": [
        "### Import Libraries"
      ],
      "metadata": {
        "id": "Y3lxredqlCYt"
      }
    },
    {
      "cell_type": "code",
      "source": [
        "# Import Libraries\n",
        "import pandas as pd\n",
        "import numpy as np\n",
        "import matplotlib.pyplot as plt\n",
        "import seaborn as sns\n",
        "from datetime import datetime\n",
        "import warnings\n",
        "warnings.filterwarnings('ignore')"
      ],
      "metadata": {
        "id": "M8Vqi-pPk-HR"
      },
      "execution_count": 1,
      "outputs": []
    },
    {
      "cell_type": "markdown",
      "source": [
        "### Dataset Loading"
      ],
      "metadata": {
        "id": "3RnN4peoiCZX"
      }
    },
    {
      "cell_type": "code",
      "source": [
        "# Load Dataset\n",
        "# Make sure to import Customer_support_data.csv into the Files Section\n",
        "df = pd.read_csv(r'/content/Customer_support_data.csv')\n"
      ],
      "metadata": {
        "id": "4CkvbW_SlZ_R"
      },
      "execution_count": 2,
      "outputs": []
    },
    {
      "cell_type": "markdown",
      "source": [
        "### Dataset First View"
      ],
      "metadata": {
        "id": "x71ZqKXriCWQ"
      }
    },
    {
      "cell_type": "code",
      "source": [
        "# Dataset First Look\n",
        "df.head()"
      ],
      "metadata": {
        "id": "LWNFOSvLl09H",
        "colab": {
          "base_uri": "https://localhost:8080/",
          "height": 503
        },
        "outputId": "c8c152c3-eac2-4600-894b-f43ba5c6fa1a"
      },
      "execution_count": 3,
      "outputs": [
        {
          "output_type": "execute_result",
          "data": {
            "text/plain": [
              "                              Unique id channel_name         category  \\\n",
              "0  7e9ae164-6a8b-4521-a2d4-58f7c9fff13f      Outcall  Product Queries   \n",
              "1  b07ec1b0-f376-43b6-86df-ec03da3b2e16      Outcall  Product Queries   \n",
              "2  200814dd-27c7-4149-ba2b-bd3af3092880      Inbound    Order Related   \n",
              "3  eb0d3e53-c1ca-42d3-8486-e42c8d622135      Inbound          Returns   \n",
              "4  ba903143-1e54-406c-b969-46c52f92e5df      Inbound     Cancellation   \n",
              "\n",
              "                   Sub-category Customer Remarks  \\\n",
              "0                Life Insurance              NaN   \n",
              "1  Product Specific Information              NaN   \n",
              "2             Installation/demo              NaN   \n",
              "3        Reverse Pickup Enquiry              NaN   \n",
              "4                    Not Needed              NaN   \n",
              "\n",
              "                               Order_id order_date_time Issue_reported at  \\\n",
              "0  c27c9bb4-fa36-4140-9f1f-21009254ffdb             NaN    01-08-23 11:13   \n",
              "1  d406b0c7-ce17-4654-b9de-f08d421254bd             NaN    01-08-23 12:52   \n",
              "2  c273368d-b961-44cb-beaf-62d6fd6c00d5             NaN    01-08-23 20:16   \n",
              "3  5aed0059-55a4-4ec6-bb54-97942092020a             NaN    01-08-23 20:56   \n",
              "4  e8bed5a9-6933-4aff-9dc6-ccefd7dcde59             NaN    01-08-23 10:30   \n",
              "\n",
              "  issue_responded Survey_response_Date Customer_City Product_category  \\\n",
              "0  01-08-23 11:47            01-Aug-23           NaN              NaN   \n",
              "1  01-08-23 12:54            01-Aug-23           NaN              NaN   \n",
              "2  01-08-23 20:38            01-Aug-23           NaN              NaN   \n",
              "3  01-08-23 21:16            01-Aug-23           NaN              NaN   \n",
              "4  01-08-23 10:32            01-Aug-23           NaN              NaN   \n",
              "\n",
              "   Item_price  connected_handling_time           Agent_name      Supervisor  \\\n",
              "0         NaN                      NaN     Richard Buchanan     Mason Gupta   \n",
              "1         NaN                      NaN        Vicki Collins       Dylan Kim   \n",
              "2         NaN                      NaN         Duane Norman    Jackson Park   \n",
              "3         NaN                      NaN       Patrick Flores     Olivia Wang   \n",
              "4         NaN                      NaN  Christopher Sanchez  Austin Johnson   \n",
              "\n",
              "           Manager    Tenure Bucket Agent Shift  CSAT Score  \n",
              "0  Jennifer Nguyen  On Job Training     Morning           5  \n",
              "1      Michael Lee              >90     Morning           5  \n",
              "2      William Kim  On Job Training     Evening           5  \n",
              "3       John Smith              >90     Evening           5  \n",
              "4      Michael Lee             0-30     Morning           5  "
            ],
            "text/html": [
              "\n",
              "  <div id=\"df-ed833884-c1b2-4397-8e80-b6e29d3e528c\" class=\"colab-df-container\">\n",
              "    <div>\n",
              "<style scoped>\n",
              "    .dataframe tbody tr th:only-of-type {\n",
              "        vertical-align: middle;\n",
              "    }\n",
              "\n",
              "    .dataframe tbody tr th {\n",
              "        vertical-align: top;\n",
              "    }\n",
              "\n",
              "    .dataframe thead th {\n",
              "        text-align: right;\n",
              "    }\n",
              "</style>\n",
              "<table border=\"1\" class=\"dataframe\">\n",
              "  <thead>\n",
              "    <tr style=\"text-align: right;\">\n",
              "      <th></th>\n",
              "      <th>Unique id</th>\n",
              "      <th>channel_name</th>\n",
              "      <th>category</th>\n",
              "      <th>Sub-category</th>\n",
              "      <th>Customer Remarks</th>\n",
              "      <th>Order_id</th>\n",
              "      <th>order_date_time</th>\n",
              "      <th>Issue_reported at</th>\n",
              "      <th>issue_responded</th>\n",
              "      <th>Survey_response_Date</th>\n",
              "      <th>Customer_City</th>\n",
              "      <th>Product_category</th>\n",
              "      <th>Item_price</th>\n",
              "      <th>connected_handling_time</th>\n",
              "      <th>Agent_name</th>\n",
              "      <th>Supervisor</th>\n",
              "      <th>Manager</th>\n",
              "      <th>Tenure Bucket</th>\n",
              "      <th>Agent Shift</th>\n",
              "      <th>CSAT Score</th>\n",
              "    </tr>\n",
              "  </thead>\n",
              "  <tbody>\n",
              "    <tr>\n",
              "      <th>0</th>\n",
              "      <td>7e9ae164-6a8b-4521-a2d4-58f7c9fff13f</td>\n",
              "      <td>Outcall</td>\n",
              "      <td>Product Queries</td>\n",
              "      <td>Life Insurance</td>\n",
              "      <td>NaN</td>\n",
              "      <td>c27c9bb4-fa36-4140-9f1f-21009254ffdb</td>\n",
              "      <td>NaN</td>\n",
              "      <td>01-08-23 11:13</td>\n",
              "      <td>01-08-23 11:47</td>\n",
              "      <td>01-Aug-23</td>\n",
              "      <td>NaN</td>\n",
              "      <td>NaN</td>\n",
              "      <td>NaN</td>\n",
              "      <td>NaN</td>\n",
              "      <td>Richard Buchanan</td>\n",
              "      <td>Mason Gupta</td>\n",
              "      <td>Jennifer Nguyen</td>\n",
              "      <td>On Job Training</td>\n",
              "      <td>Morning</td>\n",
              "      <td>5</td>\n",
              "    </tr>\n",
              "    <tr>\n",
              "      <th>1</th>\n",
              "      <td>b07ec1b0-f376-43b6-86df-ec03da3b2e16</td>\n",
              "      <td>Outcall</td>\n",
              "      <td>Product Queries</td>\n",
              "      <td>Product Specific Information</td>\n",
              "      <td>NaN</td>\n",
              "      <td>d406b0c7-ce17-4654-b9de-f08d421254bd</td>\n",
              "      <td>NaN</td>\n",
              "      <td>01-08-23 12:52</td>\n",
              "      <td>01-08-23 12:54</td>\n",
              "      <td>01-Aug-23</td>\n",
              "      <td>NaN</td>\n",
              "      <td>NaN</td>\n",
              "      <td>NaN</td>\n",
              "      <td>NaN</td>\n",
              "      <td>Vicki Collins</td>\n",
              "      <td>Dylan Kim</td>\n",
              "      <td>Michael Lee</td>\n",
              "      <td>&gt;90</td>\n",
              "      <td>Morning</td>\n",
              "      <td>5</td>\n",
              "    </tr>\n",
              "    <tr>\n",
              "      <th>2</th>\n",
              "      <td>200814dd-27c7-4149-ba2b-bd3af3092880</td>\n",
              "      <td>Inbound</td>\n",
              "      <td>Order Related</td>\n",
              "      <td>Installation/demo</td>\n",
              "      <td>NaN</td>\n",
              "      <td>c273368d-b961-44cb-beaf-62d6fd6c00d5</td>\n",
              "      <td>NaN</td>\n",
              "      <td>01-08-23 20:16</td>\n",
              "      <td>01-08-23 20:38</td>\n",
              "      <td>01-Aug-23</td>\n",
              "      <td>NaN</td>\n",
              "      <td>NaN</td>\n",
              "      <td>NaN</td>\n",
              "      <td>NaN</td>\n",
              "      <td>Duane Norman</td>\n",
              "      <td>Jackson Park</td>\n",
              "      <td>William Kim</td>\n",
              "      <td>On Job Training</td>\n",
              "      <td>Evening</td>\n",
              "      <td>5</td>\n",
              "    </tr>\n",
              "    <tr>\n",
              "      <th>3</th>\n",
              "      <td>eb0d3e53-c1ca-42d3-8486-e42c8d622135</td>\n",
              "      <td>Inbound</td>\n",
              "      <td>Returns</td>\n",
              "      <td>Reverse Pickup Enquiry</td>\n",
              "      <td>NaN</td>\n",
              "      <td>5aed0059-55a4-4ec6-bb54-97942092020a</td>\n",
              "      <td>NaN</td>\n",
              "      <td>01-08-23 20:56</td>\n",
              "      <td>01-08-23 21:16</td>\n",
              "      <td>01-Aug-23</td>\n",
              "      <td>NaN</td>\n",
              "      <td>NaN</td>\n",
              "      <td>NaN</td>\n",
              "      <td>NaN</td>\n",
              "      <td>Patrick Flores</td>\n",
              "      <td>Olivia Wang</td>\n",
              "      <td>John Smith</td>\n",
              "      <td>&gt;90</td>\n",
              "      <td>Evening</td>\n",
              "      <td>5</td>\n",
              "    </tr>\n",
              "    <tr>\n",
              "      <th>4</th>\n",
              "      <td>ba903143-1e54-406c-b969-46c52f92e5df</td>\n",
              "      <td>Inbound</td>\n",
              "      <td>Cancellation</td>\n",
              "      <td>Not Needed</td>\n",
              "      <td>NaN</td>\n",
              "      <td>e8bed5a9-6933-4aff-9dc6-ccefd7dcde59</td>\n",
              "      <td>NaN</td>\n",
              "      <td>01-08-23 10:30</td>\n",
              "      <td>01-08-23 10:32</td>\n",
              "      <td>01-Aug-23</td>\n",
              "      <td>NaN</td>\n",
              "      <td>NaN</td>\n",
              "      <td>NaN</td>\n",
              "      <td>NaN</td>\n",
              "      <td>Christopher Sanchez</td>\n",
              "      <td>Austin Johnson</td>\n",
              "      <td>Michael Lee</td>\n",
              "      <td>0-30</td>\n",
              "      <td>Morning</td>\n",
              "      <td>5</td>\n",
              "    </tr>\n",
              "  </tbody>\n",
              "</table>\n",
              "</div>\n",
              "    <div class=\"colab-df-buttons\">\n",
              "\n",
              "  <div class=\"colab-df-container\">\n",
              "    <button class=\"colab-df-convert\" onclick=\"convertToInteractive('df-ed833884-c1b2-4397-8e80-b6e29d3e528c')\"\n",
              "            title=\"Convert this dataframe to an interactive table.\"\n",
              "            style=\"display:none;\">\n",
              "\n",
              "  <svg xmlns=\"http://www.w3.org/2000/svg\" height=\"24px\" viewBox=\"0 -960 960 960\">\n",
              "    <path d=\"M120-120v-720h720v720H120Zm60-500h600v-160H180v160Zm220 220h160v-160H400v160Zm0 220h160v-160H400v160ZM180-400h160v-160H180v160Zm440 0h160v-160H620v160ZM180-180h160v-160H180v160Zm440 0h160v-160H620v160Z\"/>\n",
              "  </svg>\n",
              "    </button>\n",
              "\n",
              "  <style>\n",
              "    .colab-df-container {\n",
              "      display:flex;\n",
              "      gap: 12px;\n",
              "    }\n",
              "\n",
              "    .colab-df-convert {\n",
              "      background-color: #E8F0FE;\n",
              "      border: none;\n",
              "      border-radius: 50%;\n",
              "      cursor: pointer;\n",
              "      display: none;\n",
              "      fill: #1967D2;\n",
              "      height: 32px;\n",
              "      padding: 0 0 0 0;\n",
              "      width: 32px;\n",
              "    }\n",
              "\n",
              "    .colab-df-convert:hover {\n",
              "      background-color: #E2EBFA;\n",
              "      box-shadow: 0px 1px 2px rgba(60, 64, 67, 0.3), 0px 1px 3px 1px rgba(60, 64, 67, 0.15);\n",
              "      fill: #174EA6;\n",
              "    }\n",
              "\n",
              "    .colab-df-buttons div {\n",
              "      margin-bottom: 4px;\n",
              "    }\n",
              "\n",
              "    [theme=dark] .colab-df-convert {\n",
              "      background-color: #3B4455;\n",
              "      fill: #D2E3FC;\n",
              "    }\n",
              "\n",
              "    [theme=dark] .colab-df-convert:hover {\n",
              "      background-color: #434B5C;\n",
              "      box-shadow: 0px 1px 3px 1px rgba(0, 0, 0, 0.15);\n",
              "      filter: drop-shadow(0px 1px 2px rgba(0, 0, 0, 0.3));\n",
              "      fill: #FFFFFF;\n",
              "    }\n",
              "  </style>\n",
              "\n",
              "    <script>\n",
              "      const buttonEl =\n",
              "        document.querySelector('#df-ed833884-c1b2-4397-8e80-b6e29d3e528c button.colab-df-convert');\n",
              "      buttonEl.style.display =\n",
              "        google.colab.kernel.accessAllowed ? 'block' : 'none';\n",
              "\n",
              "      async function convertToInteractive(key) {\n",
              "        const element = document.querySelector('#df-ed833884-c1b2-4397-8e80-b6e29d3e528c');\n",
              "        const dataTable =\n",
              "          await google.colab.kernel.invokeFunction('convertToInteractive',\n",
              "                                                    [key], {});\n",
              "        if (!dataTable) return;\n",
              "\n",
              "        const docLinkHtml = 'Like what you see? Visit the ' +\n",
              "          '<a target=\"_blank\" href=https://colab.research.google.com/notebooks/data_table.ipynb>data table notebook</a>'\n",
              "          + ' to learn more about interactive tables.';\n",
              "        element.innerHTML = '';\n",
              "        dataTable['output_type'] = 'display_data';\n",
              "        await google.colab.output.renderOutput(dataTable, element);\n",
              "        const docLink = document.createElement('div');\n",
              "        docLink.innerHTML = docLinkHtml;\n",
              "        element.appendChild(docLink);\n",
              "      }\n",
              "    </script>\n",
              "  </div>\n",
              "\n",
              "\n",
              "    <div id=\"df-b3e89c55-6b87-474e-bcdb-2e98dbfa903c\">\n",
              "      <button class=\"colab-df-quickchart\" onclick=\"quickchart('df-b3e89c55-6b87-474e-bcdb-2e98dbfa903c')\"\n",
              "                title=\"Suggest charts\"\n",
              "                style=\"display:none;\">\n",
              "\n",
              "<svg xmlns=\"http://www.w3.org/2000/svg\" height=\"24px\"viewBox=\"0 0 24 24\"\n",
              "     width=\"24px\">\n",
              "    <g>\n",
              "        <path d=\"M19 3H5c-1.1 0-2 .9-2 2v14c0 1.1.9 2 2 2h14c1.1 0 2-.9 2-2V5c0-1.1-.9-2-2-2zM9 17H7v-7h2v7zm4 0h-2V7h2v10zm4 0h-2v-4h2v4z\"/>\n",
              "    </g>\n",
              "</svg>\n",
              "      </button>\n",
              "\n",
              "<style>\n",
              "  .colab-df-quickchart {\n",
              "      --bg-color: #E8F0FE;\n",
              "      --fill-color: #1967D2;\n",
              "      --hover-bg-color: #E2EBFA;\n",
              "      --hover-fill-color: #174EA6;\n",
              "      --disabled-fill-color: #AAA;\n",
              "      --disabled-bg-color: #DDD;\n",
              "  }\n",
              "\n",
              "  [theme=dark] .colab-df-quickchart {\n",
              "      --bg-color: #3B4455;\n",
              "      --fill-color: #D2E3FC;\n",
              "      --hover-bg-color: #434B5C;\n",
              "      --hover-fill-color: #FFFFFF;\n",
              "      --disabled-bg-color: #3B4455;\n",
              "      --disabled-fill-color: #666;\n",
              "  }\n",
              "\n",
              "  .colab-df-quickchart {\n",
              "    background-color: var(--bg-color);\n",
              "    border: none;\n",
              "    border-radius: 50%;\n",
              "    cursor: pointer;\n",
              "    display: none;\n",
              "    fill: var(--fill-color);\n",
              "    height: 32px;\n",
              "    padding: 0;\n",
              "    width: 32px;\n",
              "  }\n",
              "\n",
              "  .colab-df-quickchart:hover {\n",
              "    background-color: var(--hover-bg-color);\n",
              "    box-shadow: 0 1px 2px rgba(60, 64, 67, 0.3), 0 1px 3px 1px rgba(60, 64, 67, 0.15);\n",
              "    fill: var(--button-hover-fill-color);\n",
              "  }\n",
              "\n",
              "  .colab-df-quickchart-complete:disabled,\n",
              "  .colab-df-quickchart-complete:disabled:hover {\n",
              "    background-color: var(--disabled-bg-color);\n",
              "    fill: var(--disabled-fill-color);\n",
              "    box-shadow: none;\n",
              "  }\n",
              "\n",
              "  .colab-df-spinner {\n",
              "    border: 2px solid var(--fill-color);\n",
              "    border-color: transparent;\n",
              "    border-bottom-color: var(--fill-color);\n",
              "    animation:\n",
              "      spin 1s steps(1) infinite;\n",
              "  }\n",
              "\n",
              "  @keyframes spin {\n",
              "    0% {\n",
              "      border-color: transparent;\n",
              "      border-bottom-color: var(--fill-color);\n",
              "      border-left-color: var(--fill-color);\n",
              "    }\n",
              "    20% {\n",
              "      border-color: transparent;\n",
              "      border-left-color: var(--fill-color);\n",
              "      border-top-color: var(--fill-color);\n",
              "    }\n",
              "    30% {\n",
              "      border-color: transparent;\n",
              "      border-left-color: var(--fill-color);\n",
              "      border-top-color: var(--fill-color);\n",
              "      border-right-color: var(--fill-color);\n",
              "    }\n",
              "    40% {\n",
              "      border-color: transparent;\n",
              "      border-right-color: var(--fill-color);\n",
              "      border-top-color: var(--fill-color);\n",
              "    }\n",
              "    60% {\n",
              "      border-color: transparent;\n",
              "      border-right-color: var(--fill-color);\n",
              "    }\n",
              "    80% {\n",
              "      border-color: transparent;\n",
              "      border-right-color: var(--fill-color);\n",
              "      border-bottom-color: var(--fill-color);\n",
              "    }\n",
              "    90% {\n",
              "      border-color: transparent;\n",
              "      border-bottom-color: var(--fill-color);\n",
              "    }\n",
              "  }\n",
              "</style>\n",
              "\n",
              "      <script>\n",
              "        async function quickchart(key) {\n",
              "          const quickchartButtonEl =\n",
              "            document.querySelector('#' + key + ' button');\n",
              "          quickchartButtonEl.disabled = true;  // To prevent multiple clicks.\n",
              "          quickchartButtonEl.classList.add('colab-df-spinner');\n",
              "          try {\n",
              "            const charts = await google.colab.kernel.invokeFunction(\n",
              "                'suggestCharts', [key], {});\n",
              "          } catch (error) {\n",
              "            console.error('Error during call to suggestCharts:', error);\n",
              "          }\n",
              "          quickchartButtonEl.classList.remove('colab-df-spinner');\n",
              "          quickchartButtonEl.classList.add('colab-df-quickchart-complete');\n",
              "        }\n",
              "        (() => {\n",
              "          let quickchartButtonEl =\n",
              "            document.querySelector('#df-b3e89c55-6b87-474e-bcdb-2e98dbfa903c button');\n",
              "          quickchartButtonEl.style.display =\n",
              "            google.colab.kernel.accessAllowed ? 'block' : 'none';\n",
              "        })();\n",
              "      </script>\n",
              "    </div>\n",
              "\n",
              "    </div>\n",
              "  </div>\n"
            ],
            "application/vnd.google.colaboratory.intrinsic+json": {
              "type": "dataframe",
              "variable_name": "df",
              "summary": "{\n  \"name\": \"df\",\n  \"rows\": 85907,\n  \"fields\": [\n    {\n      \"column\": \"Unique id\",\n      \"properties\": {\n        \"dtype\": \"string\",\n        \"num_unique_values\": 85907,\n        \"samples\": [\n          \"fc42f862-7521-472c-b569-8bce866ebe8c\",\n          \"a7bb8900-a120-430f-b573-55ed6c16faab\",\n          \"b697f809-0d10-4839-9ccd-152ab6a179f4\"\n        ],\n        \"semantic_type\": \"\",\n        \"description\": \"\"\n      }\n    },\n    {\n      \"column\": \"channel_name\",\n      \"properties\": {\n        \"dtype\": \"category\",\n        \"num_unique_values\": 3,\n        \"samples\": [\n          \"Outcall\",\n          \"Inbound\",\n          \"Email\"\n        ],\n        \"semantic_type\": \"\",\n        \"description\": \"\"\n      }\n    },\n    {\n      \"column\": \"category\",\n      \"properties\": {\n        \"dtype\": \"category\",\n        \"num_unique_values\": 12,\n        \"samples\": [\n          \"Others\",\n          \"Onboarding related\",\n          \"Product Queries\"\n        ],\n        \"semantic_type\": \"\",\n        \"description\": \"\"\n      }\n    },\n    {\n      \"column\": \"Sub-category\",\n      \"properties\": {\n        \"dtype\": \"category\",\n        \"num_unique_values\": 57,\n        \"samples\": [\n          \"Life Insurance\",\n          \"Fraudulent User\",\n          \"Card/EMI\"\n        ],\n        \"semantic_type\": \"\",\n        \"description\": \"\"\n      }\n    },\n    {\n      \"column\": \"Customer Remarks\",\n      \"properties\": {\n        \"dtype\": \"category\",\n        \"num_unique_values\": 18231,\n        \"samples\": [\n          \"Interaction in telephonically is good experience she talk very nyc n solve my problem thanx dear\",\n          \"I am happy with the support received.\",\n          \"Please remove your Shopzilla vendor from your service \"\n        ],\n        \"semantic_type\": \"\",\n        \"description\": \"\"\n      }\n    },\n    {\n      \"column\": \"Order_id\",\n      \"properties\": {\n        \"dtype\": \"string\",\n        \"num_unique_values\": 67675,\n        \"samples\": [\n          \"414c0688-adaf-4123-b342-e8bd2c050638\",\n          \"110cba2e-b988-40b8-9967-716c8d6e7a71\",\n          \"0058ad82-75ed-4253-821b-86553937658b\"\n        ],\n        \"semantic_type\": \"\",\n        \"description\": \"\"\n      }\n    },\n    {\n      \"column\": \"order_date_time\",\n      \"properties\": {\n        \"dtype\": \"date\",\n        \"min\": \"2022-01-07 07:00:00\",\n        \"max\": \"2023-12-08 23:55:00\",\n        \"num_unique_values\": 13766,\n        \"samples\": [\n          \"27-06-23 8:27\",\n          \"09-08-23 6:19\",\n          \"28-07-23 19:02\"\n        ],\n        \"semantic_type\": \"\",\n        \"description\": \"\"\n      }\n    },\n    {\n      \"column\": \"Issue_reported at\",\n      \"properties\": {\n        \"dtype\": \"object\",\n        \"num_unique_values\": 30923,\n        \"samples\": [\n          \"26-08-23 17:45\",\n          \"11-08-23 1:02\",\n          \"25-08-23 22:00\"\n        ],\n        \"semantic_type\": \"\",\n        \"description\": \"\"\n      }\n    },\n    {\n      \"column\": \"issue_responded\",\n      \"properties\": {\n        \"dtype\": \"object\",\n        \"num_unique_values\": 30262,\n        \"samples\": [\n          \"11-08-23 15:20\",\n          \"05-08-23 23:43\",\n          \"06-08-23 11:39\"\n        ],\n        \"semantic_type\": \"\",\n        \"description\": \"\"\n      }\n    },\n    {\n      \"column\": \"Survey_response_Date\",\n      \"properties\": {\n        \"dtype\": \"object\",\n        \"num_unique_values\": 31,\n        \"samples\": [\n          \"28-Aug-23\",\n          \"16-Aug-23\",\n          \"24-Aug-23\"\n        ],\n        \"semantic_type\": \"\",\n        \"description\": \"\"\n      }\n    },\n    {\n      \"column\": \"Customer_City\",\n      \"properties\": {\n        \"dtype\": \"category\",\n        \"num_unique_values\": 1782,\n        \"samples\": [\n          \"FEROZEPUR JHIRKA\",\n          \"NAMRUP\",\n          \"MUZAFFARPUR\"\n        ],\n        \"semantic_type\": \"\",\n        \"description\": \"\"\n      }\n    },\n    {\n      \"column\": \"Product_category\",\n      \"properties\": {\n        \"dtype\": \"category\",\n        \"num_unique_values\": 9,\n        \"samples\": [\n          \"GiftCard\",\n          \"Electronics\",\n          \"Home\"\n        ],\n        \"semantic_type\": \"\",\n        \"description\": \"\"\n      }\n    },\n    {\n      \"column\": \"Item_price\",\n      \"properties\": {\n        \"dtype\": \"number\",\n        \"std\": 12825.728411195778,\n        \"min\": 0.0,\n        \"max\": 164999.0,\n        \"num_unique_values\": 2789,\n        \"samples\": [\n          764.0,\n          1055.0,\n          2386.0\n        ],\n        \"semantic_type\": \"\",\n        \"description\": \"\"\n      }\n    },\n    {\n      \"column\": \"connected_handling_time\",\n      \"properties\": {\n        \"dtype\": \"number\",\n        \"std\": 246.29503712116792,\n        \"min\": 0.0,\n        \"max\": 1986.0,\n        \"num_unique_values\": 211,\n        \"samples\": [\n          777.0,\n          282.0,\n          815.0\n        ],\n        \"semantic_type\": \"\",\n        \"description\": \"\"\n      }\n    },\n    {\n      \"column\": \"Agent_name\",\n      \"properties\": {\n        \"dtype\": \"category\",\n        \"num_unique_values\": 1371,\n        \"samples\": [\n          \"Kimberly Morris\",\n          \"Russell Ramsey\",\n          \"Joshua Foster\"\n        ],\n        \"semantic_type\": \"\",\n        \"description\": \"\"\n      }\n    },\n    {\n      \"column\": \"Supervisor\",\n      \"properties\": {\n        \"dtype\": \"category\",\n        \"num_unique_values\": 40,\n        \"samples\": [\n          \"Madison Kim\",\n          \"Mia Patel\",\n          \"Logan Lee\"\n        ],\n        \"semantic_type\": \"\",\n        \"description\": \"\"\n      }\n    },\n    {\n      \"column\": \"Manager\",\n      \"properties\": {\n        \"dtype\": \"category\",\n        \"num_unique_values\": 6,\n        \"samples\": [\n          \"Jennifer Nguyen\",\n          \"Michael Lee\",\n          \"Emily Chen\"\n        ],\n        \"semantic_type\": \"\",\n        \"description\": \"\"\n      }\n    },\n    {\n      \"column\": \"Tenure Bucket\",\n      \"properties\": {\n        \"dtype\": \"category\",\n        \"num_unique_values\": 5,\n        \"samples\": [\n          \">90\",\n          \"61-90\",\n          \"0-30\"\n        ],\n        \"semantic_type\": \"\",\n        \"description\": \"\"\n      }\n    },\n    {\n      \"column\": \"Agent Shift\",\n      \"properties\": {\n        \"dtype\": \"category\",\n        \"num_unique_values\": 5,\n        \"samples\": [\n          \"Evening\",\n          \"Night\",\n          \"Split\"\n        ],\n        \"semantic_type\": \"\",\n        \"description\": \"\"\n      }\n    },\n    {\n      \"column\": \"CSAT Score\",\n      \"properties\": {\n        \"dtype\": \"number\",\n        \"std\": 1,\n        \"min\": 1,\n        \"max\": 5,\n        \"num_unique_values\": 5,\n        \"samples\": [\n          4,\n          2,\n          1\n        ],\n        \"semantic_type\": \"\",\n        \"description\": \"\"\n      }\n    }\n  ]\n}"
            }
          },
          "metadata": {},
          "execution_count": 3
        }
      ]
    },
    {
      "cell_type": "markdown",
      "source": [
        "### Dataset Rows & Columns count"
      ],
      "metadata": {
        "id": "7hBIi_osiCS2"
      }
    },
    {
      "cell_type": "code",
      "source": [
        "# Dataset Rows & Columns count\n",
        "df.shape"
      ],
      "metadata": {
        "id": "Kllu7SJgmLij",
        "colab": {
          "base_uri": "https://localhost:8080/"
        },
        "outputId": "f1b8e088-875a-4c18-d503-709ffa2f2df9"
      },
      "execution_count": 4,
      "outputs": [
        {
          "output_type": "execute_result",
          "data": {
            "text/plain": [
              "(85907, 20)"
            ]
          },
          "metadata": {},
          "execution_count": 4
        }
      ]
    },
    {
      "cell_type": "markdown",
      "source": [
        "### Dataset Information"
      ],
      "metadata": {
        "id": "JlHwYmJAmNHm"
      }
    },
    {
      "cell_type": "code",
      "source": [
        "# Dataset Info\n",
        "df.info()"
      ],
      "metadata": {
        "id": "e9hRXRi6meOf",
        "colab": {
          "base_uri": "https://localhost:8080/"
        },
        "outputId": "69e7df7f-ff3a-4c1a-a669-21218cc5e76f"
      },
      "execution_count": 5,
      "outputs": [
        {
          "output_type": "stream",
          "name": "stdout",
          "text": [
            "<class 'pandas.core.frame.DataFrame'>\n",
            "RangeIndex: 85907 entries, 0 to 85906\n",
            "Data columns (total 20 columns):\n",
            " #   Column                   Non-Null Count  Dtype  \n",
            "---  ------                   --------------  -----  \n",
            " 0   Unique id                85907 non-null  object \n",
            " 1   channel_name             85907 non-null  object \n",
            " 2   category                 85907 non-null  object \n",
            " 3   Sub-category             85907 non-null  object \n",
            " 4   Customer Remarks         28742 non-null  object \n",
            " 5   Order_id                 67675 non-null  object \n",
            " 6   order_date_time          17214 non-null  object \n",
            " 7   Issue_reported at        85907 non-null  object \n",
            " 8   issue_responded          85907 non-null  object \n",
            " 9   Survey_response_Date     85907 non-null  object \n",
            " 10  Customer_City            17079 non-null  object \n",
            " 11  Product_category         17196 non-null  object \n",
            " 12  Item_price               17206 non-null  float64\n",
            " 13  connected_handling_time  242 non-null    float64\n",
            " 14  Agent_name               85907 non-null  object \n",
            " 15  Supervisor               85907 non-null  object \n",
            " 16  Manager                  85907 non-null  object \n",
            " 17  Tenure Bucket            85907 non-null  object \n",
            " 18  Agent Shift              85907 non-null  object \n",
            " 19  CSAT Score               85907 non-null  int64  \n",
            "dtypes: float64(2), int64(1), object(17)\n",
            "memory usage: 13.1+ MB\n"
          ]
        }
      ]
    },
    {
      "cell_type": "markdown",
      "source": [
        "#### Duplicate Values"
      ],
      "metadata": {
        "id": "35m5QtbWiB9F"
      }
    },
    {
      "cell_type": "code",
      "source": [
        "# Dataset Duplicate Value Count\n",
        "df.duplicated().sum()"
      ],
      "metadata": {
        "id": "1sLdpKYkmox0",
        "colab": {
          "base_uri": "https://localhost:8080/"
        },
        "outputId": "434c8220-c67e-43a7-f875-9e1255ec56db"
      },
      "execution_count": 6,
      "outputs": [
        {
          "output_type": "execute_result",
          "data": {
            "text/plain": [
              "np.int64(0)"
            ]
          },
          "metadata": {},
          "execution_count": 6
        }
      ]
    },
    {
      "cell_type": "markdown",
      "source": [
        "#### Missing Values/Null Values"
      ],
      "metadata": {
        "id": "PoPl-ycgm1ru"
      }
    },
    {
      "cell_type": "code",
      "source": [
        "# Missing Values/Null Values Count\n",
        "df.isnull().sum()"
      ],
      "metadata": {
        "id": "GgHWkxvamxVg",
        "colab": {
          "base_uri": "https://localhost:8080/",
          "height": 711
        },
        "outputId": "20ed2cbd-6c06-4bed-cca0-8ab5cad914c0"
      },
      "execution_count": 7,
      "outputs": [
        {
          "output_type": "execute_result",
          "data": {
            "text/plain": [
              "Unique id                      0\n",
              "channel_name                   0\n",
              "category                       0\n",
              "Sub-category                   0\n",
              "Customer Remarks           57165\n",
              "Order_id                   18232\n",
              "order_date_time            68693\n",
              "Issue_reported at              0\n",
              "issue_responded                0\n",
              "Survey_response_Date           0\n",
              "Customer_City              68828\n",
              "Product_category           68711\n",
              "Item_price                 68701\n",
              "connected_handling_time    85665\n",
              "Agent_name                     0\n",
              "Supervisor                     0\n",
              "Manager                        0\n",
              "Tenure Bucket                  0\n",
              "Agent Shift                    0\n",
              "CSAT Score                     0\n",
              "dtype: int64"
            ],
            "text/html": [
              "<div>\n",
              "<style scoped>\n",
              "    .dataframe tbody tr th:only-of-type {\n",
              "        vertical-align: middle;\n",
              "    }\n",
              "\n",
              "    .dataframe tbody tr th {\n",
              "        vertical-align: top;\n",
              "    }\n",
              "\n",
              "    .dataframe thead th {\n",
              "        text-align: right;\n",
              "    }\n",
              "</style>\n",
              "<table border=\"1\" class=\"dataframe\">\n",
              "  <thead>\n",
              "    <tr style=\"text-align: right;\">\n",
              "      <th></th>\n",
              "      <th>0</th>\n",
              "    </tr>\n",
              "  </thead>\n",
              "  <tbody>\n",
              "    <tr>\n",
              "      <th>Unique id</th>\n",
              "      <td>0</td>\n",
              "    </tr>\n",
              "    <tr>\n",
              "      <th>channel_name</th>\n",
              "      <td>0</td>\n",
              "    </tr>\n",
              "    <tr>\n",
              "      <th>category</th>\n",
              "      <td>0</td>\n",
              "    </tr>\n",
              "    <tr>\n",
              "      <th>Sub-category</th>\n",
              "      <td>0</td>\n",
              "    </tr>\n",
              "    <tr>\n",
              "      <th>Customer Remarks</th>\n",
              "      <td>57165</td>\n",
              "    </tr>\n",
              "    <tr>\n",
              "      <th>Order_id</th>\n",
              "      <td>18232</td>\n",
              "    </tr>\n",
              "    <tr>\n",
              "      <th>order_date_time</th>\n",
              "      <td>68693</td>\n",
              "    </tr>\n",
              "    <tr>\n",
              "      <th>Issue_reported at</th>\n",
              "      <td>0</td>\n",
              "    </tr>\n",
              "    <tr>\n",
              "      <th>issue_responded</th>\n",
              "      <td>0</td>\n",
              "    </tr>\n",
              "    <tr>\n",
              "      <th>Survey_response_Date</th>\n",
              "      <td>0</td>\n",
              "    </tr>\n",
              "    <tr>\n",
              "      <th>Customer_City</th>\n",
              "      <td>68828</td>\n",
              "    </tr>\n",
              "    <tr>\n",
              "      <th>Product_category</th>\n",
              "      <td>68711</td>\n",
              "    </tr>\n",
              "    <tr>\n",
              "      <th>Item_price</th>\n",
              "      <td>68701</td>\n",
              "    </tr>\n",
              "    <tr>\n",
              "      <th>connected_handling_time</th>\n",
              "      <td>85665</td>\n",
              "    </tr>\n",
              "    <tr>\n",
              "      <th>Agent_name</th>\n",
              "      <td>0</td>\n",
              "    </tr>\n",
              "    <tr>\n",
              "      <th>Supervisor</th>\n",
              "      <td>0</td>\n",
              "    </tr>\n",
              "    <tr>\n",
              "      <th>Manager</th>\n",
              "      <td>0</td>\n",
              "    </tr>\n",
              "    <tr>\n",
              "      <th>Tenure Bucket</th>\n",
              "      <td>0</td>\n",
              "    </tr>\n",
              "    <tr>\n",
              "      <th>Agent Shift</th>\n",
              "      <td>0</td>\n",
              "    </tr>\n",
              "    <tr>\n",
              "      <th>CSAT Score</th>\n",
              "      <td>0</td>\n",
              "    </tr>\n",
              "  </tbody>\n",
              "</table>\n",
              "</div><br><label><b>dtype:</b> int64</label>"
            ]
          },
          "metadata": {},
          "execution_count": 7
        }
      ]
    },
    {
      "cell_type": "markdown",
      "source": [
        "### What did you know about your dataset?"
      ],
      "metadata": {
        "id": "H0kj-8xxnORC"
      }
    },
    {
      "cell_type": "markdown",
      "source": [
        "The dataset consists of customer service interaction records from the given dataset, each representing a ticket raised by a customer. It contains 85907 entries and includes both quantitative and qualitative data relevant to customer satisfaction.\n",
        "\n",
        "Key things we observed:\n",
        "\n",
        "* **Target Variable:** The main variable of interest is the **CSAT Score**, which ranges from **1 (very dissatisfied)** to **5 (very satisfied)**.\n",
        "\n",
        "* **Time-Based Fields:** It has timestamps like `Issue_reported_at` and `Issue_responded`, which can be used to calculate **response time**, and a `connected_handling_time` field indicating how long agents handled the ticket.\n",
        "\n",
        "* **Agent Information:** The dataset contains details about agents such as **Agent Name**, **Supervisor**, **Manager**, **Shift**, and **Tenure Bucket**, which help evaluate performance at different hierarchy levels.\n",
        "\n",
        "* **Customer and Channel Info:** It includes the **channel of communication** (Email, Inbound, Outcall), **city**, and **product category**, giving more dimensions to analyze satisfaction patterns.\n",
        "\n",
        "* **Imbalanced CSAT Distribution:** CSAT scores are **heavily skewed toward 5**, but there is still a significant volume of ratings at the lowest score (1), indicating service inconsistency.\n",
        "\n",
        "In summary, the dataset is well-suited for exploratory analysis, pattern recognition, and performance benchmarking across service channels, agents, and time-related metrics to uncover what drives customer satisfaction in the company\n",
        "\n"
      ],
      "metadata": {
        "id": "gfoNAAC-nUe_"
      }
    },
    {
      "cell_type": "markdown",
      "source": [
        "## ***2. Understanding Your Variables***"
      ],
      "metadata": {
        "id": "nA9Y7ga8ng1Z"
      }
    },
    {
      "cell_type": "code",
      "source": [
        "# Dataset Columns\n",
        "df.columns"
      ],
      "metadata": {
        "id": "j7xfkqrt5Ag5",
        "colab": {
          "base_uri": "https://localhost:8080/"
        },
        "outputId": "26cd130e-4f6c-4411-a517-409a95f11bab"
      },
      "execution_count": 8,
      "outputs": [
        {
          "output_type": "execute_result",
          "data": {
            "text/plain": [
              "Index(['Unique id', 'channel_name', 'category', 'Sub-category',\n",
              "       'Customer Remarks', 'Order_id', 'order_date_time', 'Issue_reported at',\n",
              "       'issue_responded', 'Survey_response_Date', 'Customer_City',\n",
              "       'Product_category', 'Item_price', 'connected_handling_time',\n",
              "       'Agent_name', 'Supervisor', 'Manager', 'Tenure Bucket', 'Agent Shift',\n",
              "       'CSAT Score'],\n",
              "      dtype='object')"
            ]
          },
          "metadata": {},
          "execution_count": 8
        }
      ]
    },
    {
      "cell_type": "code",
      "source": [
        "# Dataset Describe\n",
        "df.describe()"
      ],
      "metadata": {
        "id": "DnOaZdaE5Q5t",
        "colab": {
          "base_uri": "https://localhost:8080/",
          "height": 300
        },
        "outputId": "7f1ca8cc-13ac-4232-f9fa-8455d17b9bc5"
      },
      "execution_count": 9,
      "outputs": [
        {
          "output_type": "execute_result",
          "data": {
            "text/plain": [
              "          Item_price  connected_handling_time    CSAT Score\n",
              "count   17206.000000               242.000000  85907.000000\n",
              "mean     5660.774846               462.400826      4.242157\n",
              "std     12825.728411               246.295037      1.378903\n",
              "min         0.000000                 0.000000      1.000000\n",
              "25%       392.000000               293.000000      4.000000\n",
              "50%       979.000000               427.000000      5.000000\n",
              "75%      2699.750000               592.250000      5.000000\n",
              "max    164999.000000              1986.000000      5.000000"
            ],
            "text/html": [
              "\n",
              "  <div id=\"df-6b967100-a18a-418d-8b6e-ce38d8509361\" class=\"colab-df-container\">\n",
              "    <div>\n",
              "<style scoped>\n",
              "    .dataframe tbody tr th:only-of-type {\n",
              "        vertical-align: middle;\n",
              "    }\n",
              "\n",
              "    .dataframe tbody tr th {\n",
              "        vertical-align: top;\n",
              "    }\n",
              "\n",
              "    .dataframe thead th {\n",
              "        text-align: right;\n",
              "    }\n",
              "</style>\n",
              "<table border=\"1\" class=\"dataframe\">\n",
              "  <thead>\n",
              "    <tr style=\"text-align: right;\">\n",
              "      <th></th>\n",
              "      <th>Item_price</th>\n",
              "      <th>connected_handling_time</th>\n",
              "      <th>CSAT Score</th>\n",
              "    </tr>\n",
              "  </thead>\n",
              "  <tbody>\n",
              "    <tr>\n",
              "      <th>count</th>\n",
              "      <td>17206.000000</td>\n",
              "      <td>242.000000</td>\n",
              "      <td>85907.000000</td>\n",
              "    </tr>\n",
              "    <tr>\n",
              "      <th>mean</th>\n",
              "      <td>5660.774846</td>\n",
              "      <td>462.400826</td>\n",
              "      <td>4.242157</td>\n",
              "    </tr>\n",
              "    <tr>\n",
              "      <th>std</th>\n",
              "      <td>12825.728411</td>\n",
              "      <td>246.295037</td>\n",
              "      <td>1.378903</td>\n",
              "    </tr>\n",
              "    <tr>\n",
              "      <th>min</th>\n",
              "      <td>0.000000</td>\n",
              "      <td>0.000000</td>\n",
              "      <td>1.000000</td>\n",
              "    </tr>\n",
              "    <tr>\n",
              "      <th>25%</th>\n",
              "      <td>392.000000</td>\n",
              "      <td>293.000000</td>\n",
              "      <td>4.000000</td>\n",
              "    </tr>\n",
              "    <tr>\n",
              "      <th>50%</th>\n",
              "      <td>979.000000</td>\n",
              "      <td>427.000000</td>\n",
              "      <td>5.000000</td>\n",
              "    </tr>\n",
              "    <tr>\n",
              "      <th>75%</th>\n",
              "      <td>2699.750000</td>\n",
              "      <td>592.250000</td>\n",
              "      <td>5.000000</td>\n",
              "    </tr>\n",
              "    <tr>\n",
              "      <th>max</th>\n",
              "      <td>164999.000000</td>\n",
              "      <td>1986.000000</td>\n",
              "      <td>5.000000</td>\n",
              "    </tr>\n",
              "  </tbody>\n",
              "</table>\n",
              "</div>\n",
              "    <div class=\"colab-df-buttons\">\n",
              "\n",
              "  <div class=\"colab-df-container\">\n",
              "    <button class=\"colab-df-convert\" onclick=\"convertToInteractive('df-6b967100-a18a-418d-8b6e-ce38d8509361')\"\n",
              "            title=\"Convert this dataframe to an interactive table.\"\n",
              "            style=\"display:none;\">\n",
              "\n",
              "  <svg xmlns=\"http://www.w3.org/2000/svg\" height=\"24px\" viewBox=\"0 -960 960 960\">\n",
              "    <path d=\"M120-120v-720h720v720H120Zm60-500h600v-160H180v160Zm220 220h160v-160H400v160Zm0 220h160v-160H400v160ZM180-400h160v-160H180v160Zm440 0h160v-160H620v160ZM180-180h160v-160H180v160Zm440 0h160v-160H620v160Z\"/>\n",
              "  </svg>\n",
              "    </button>\n",
              "\n",
              "  <style>\n",
              "    .colab-df-container {\n",
              "      display:flex;\n",
              "      gap: 12px;\n",
              "    }\n",
              "\n",
              "    .colab-df-convert {\n",
              "      background-color: #E8F0FE;\n",
              "      border: none;\n",
              "      border-radius: 50%;\n",
              "      cursor: pointer;\n",
              "      display: none;\n",
              "      fill: #1967D2;\n",
              "      height: 32px;\n",
              "      padding: 0 0 0 0;\n",
              "      width: 32px;\n",
              "    }\n",
              "\n",
              "    .colab-df-convert:hover {\n",
              "      background-color: #E2EBFA;\n",
              "      box-shadow: 0px 1px 2px rgba(60, 64, 67, 0.3), 0px 1px 3px 1px rgba(60, 64, 67, 0.15);\n",
              "      fill: #174EA6;\n",
              "    }\n",
              "\n",
              "    .colab-df-buttons div {\n",
              "      margin-bottom: 4px;\n",
              "    }\n",
              "\n",
              "    [theme=dark] .colab-df-convert {\n",
              "      background-color: #3B4455;\n",
              "      fill: #D2E3FC;\n",
              "    }\n",
              "\n",
              "    [theme=dark] .colab-df-convert:hover {\n",
              "      background-color: #434B5C;\n",
              "      box-shadow: 0px 1px 3px 1px rgba(0, 0, 0, 0.15);\n",
              "      filter: drop-shadow(0px 1px 2px rgba(0, 0, 0, 0.3));\n",
              "      fill: #FFFFFF;\n",
              "    }\n",
              "  </style>\n",
              "\n",
              "    <script>\n",
              "      const buttonEl =\n",
              "        document.querySelector('#df-6b967100-a18a-418d-8b6e-ce38d8509361 button.colab-df-convert');\n",
              "      buttonEl.style.display =\n",
              "        google.colab.kernel.accessAllowed ? 'block' : 'none';\n",
              "\n",
              "      async function convertToInteractive(key) {\n",
              "        const element = document.querySelector('#df-6b967100-a18a-418d-8b6e-ce38d8509361');\n",
              "        const dataTable =\n",
              "          await google.colab.kernel.invokeFunction('convertToInteractive',\n",
              "                                                    [key], {});\n",
              "        if (!dataTable) return;\n",
              "\n",
              "        const docLinkHtml = 'Like what you see? Visit the ' +\n",
              "          '<a target=\"_blank\" href=https://colab.research.google.com/notebooks/data_table.ipynb>data table notebook</a>'\n",
              "          + ' to learn more about interactive tables.';\n",
              "        element.innerHTML = '';\n",
              "        dataTable['output_type'] = 'display_data';\n",
              "        await google.colab.output.renderOutput(dataTable, element);\n",
              "        const docLink = document.createElement('div');\n",
              "        docLink.innerHTML = docLinkHtml;\n",
              "        element.appendChild(docLink);\n",
              "      }\n",
              "    </script>\n",
              "  </div>\n",
              "\n",
              "\n",
              "    <div id=\"df-091a2645-0939-43e2-9495-4f9c7b9065c5\">\n",
              "      <button class=\"colab-df-quickchart\" onclick=\"quickchart('df-091a2645-0939-43e2-9495-4f9c7b9065c5')\"\n",
              "                title=\"Suggest charts\"\n",
              "                style=\"display:none;\">\n",
              "\n",
              "<svg xmlns=\"http://www.w3.org/2000/svg\" height=\"24px\"viewBox=\"0 0 24 24\"\n",
              "     width=\"24px\">\n",
              "    <g>\n",
              "        <path d=\"M19 3H5c-1.1 0-2 .9-2 2v14c0 1.1.9 2 2 2h14c1.1 0 2-.9 2-2V5c0-1.1-.9-2-2-2zM9 17H7v-7h2v7zm4 0h-2V7h2v10zm4 0h-2v-4h2v4z\"/>\n",
              "    </g>\n",
              "</svg>\n",
              "      </button>\n",
              "\n",
              "<style>\n",
              "  .colab-df-quickchart {\n",
              "      --bg-color: #E8F0FE;\n",
              "      --fill-color: #1967D2;\n",
              "      --hover-bg-color: #E2EBFA;\n",
              "      --hover-fill-color: #174EA6;\n",
              "      --disabled-fill-color: #AAA;\n",
              "      --disabled-bg-color: #DDD;\n",
              "  }\n",
              "\n",
              "  [theme=dark] .colab-df-quickchart {\n",
              "      --bg-color: #3B4455;\n",
              "      --fill-color: #D2E3FC;\n",
              "      --hover-bg-color: #434B5C;\n",
              "      --hover-fill-color: #FFFFFF;\n",
              "      --disabled-bg-color: #3B4455;\n",
              "      --disabled-fill-color: #666;\n",
              "  }\n",
              "\n",
              "  .colab-df-quickchart {\n",
              "    background-color: var(--bg-color);\n",
              "    border: none;\n",
              "    border-radius: 50%;\n",
              "    cursor: pointer;\n",
              "    display: none;\n",
              "    fill: var(--fill-color);\n",
              "    height: 32px;\n",
              "    padding: 0;\n",
              "    width: 32px;\n",
              "  }\n",
              "\n",
              "  .colab-df-quickchart:hover {\n",
              "    background-color: var(--hover-bg-color);\n",
              "    box-shadow: 0 1px 2px rgba(60, 64, 67, 0.3), 0 1px 3px 1px rgba(60, 64, 67, 0.15);\n",
              "    fill: var(--button-hover-fill-color);\n",
              "  }\n",
              "\n",
              "  .colab-df-quickchart-complete:disabled,\n",
              "  .colab-df-quickchart-complete:disabled:hover {\n",
              "    background-color: var(--disabled-bg-color);\n",
              "    fill: var(--disabled-fill-color);\n",
              "    box-shadow: none;\n",
              "  }\n",
              "\n",
              "  .colab-df-spinner {\n",
              "    border: 2px solid var(--fill-color);\n",
              "    border-color: transparent;\n",
              "    border-bottom-color: var(--fill-color);\n",
              "    animation:\n",
              "      spin 1s steps(1) infinite;\n",
              "  }\n",
              "\n",
              "  @keyframes spin {\n",
              "    0% {\n",
              "      border-color: transparent;\n",
              "      border-bottom-color: var(--fill-color);\n",
              "      border-left-color: var(--fill-color);\n",
              "    }\n",
              "    20% {\n",
              "      border-color: transparent;\n",
              "      border-left-color: var(--fill-color);\n",
              "      border-top-color: var(--fill-color);\n",
              "    }\n",
              "    30% {\n",
              "      border-color: transparent;\n",
              "      border-left-color: var(--fill-color);\n",
              "      border-top-color: var(--fill-color);\n",
              "      border-right-color: var(--fill-color);\n",
              "    }\n",
              "    40% {\n",
              "      border-color: transparent;\n",
              "      border-right-color: var(--fill-color);\n",
              "      border-top-color: var(--fill-color);\n",
              "    }\n",
              "    60% {\n",
              "      border-color: transparent;\n",
              "      border-right-color: var(--fill-color);\n",
              "    }\n",
              "    80% {\n",
              "      border-color: transparent;\n",
              "      border-right-color: var(--fill-color);\n",
              "      border-bottom-color: var(--fill-color);\n",
              "    }\n",
              "    90% {\n",
              "      border-color: transparent;\n",
              "      border-bottom-color: var(--fill-color);\n",
              "    }\n",
              "  }\n",
              "</style>\n",
              "\n",
              "      <script>\n",
              "        async function quickchart(key) {\n",
              "          const quickchartButtonEl =\n",
              "            document.querySelector('#' + key + ' button');\n",
              "          quickchartButtonEl.disabled = true;  // To prevent multiple clicks.\n",
              "          quickchartButtonEl.classList.add('colab-df-spinner');\n",
              "          try {\n",
              "            const charts = await google.colab.kernel.invokeFunction(\n",
              "                'suggestCharts', [key], {});\n",
              "          } catch (error) {\n",
              "            console.error('Error during call to suggestCharts:', error);\n",
              "          }\n",
              "          quickchartButtonEl.classList.remove('colab-df-spinner');\n",
              "          quickchartButtonEl.classList.add('colab-df-quickchart-complete');\n",
              "        }\n",
              "        (() => {\n",
              "          let quickchartButtonEl =\n",
              "            document.querySelector('#df-091a2645-0939-43e2-9495-4f9c7b9065c5 button');\n",
              "          quickchartButtonEl.style.display =\n",
              "            google.colab.kernel.accessAllowed ? 'block' : 'none';\n",
              "        })();\n",
              "      </script>\n",
              "    </div>\n",
              "\n",
              "    </div>\n",
              "  </div>\n"
            ],
            "application/vnd.google.colaboratory.intrinsic+json": {
              "type": "dataframe",
              "summary": "{\n  \"name\": \"df\",\n  \"rows\": 8,\n  \"fields\": [\n    {\n      \"column\": \"Item_price\",\n      \"properties\": {\n        \"dtype\": \"number\",\n        \"std\": 56675.40828301801,\n        \"min\": 0.0,\n        \"max\": 164999.0,\n        \"num_unique_values\": 8,\n        \"samples\": [\n          5660.7748459839595,\n          979.0,\n          17206.0\n        ],\n        \"semantic_type\": \"\",\n        \"description\": \"\"\n      }\n    },\n    {\n      \"column\": \"connected_handling_time\",\n      \"properties\": {\n        \"dtype\": \"number\",\n        \"std\": 614.0592355288412,\n        \"min\": 0.0,\n        \"max\": 1986.0,\n        \"num_unique_values\": 8,\n        \"samples\": [\n          462.400826446281,\n          427.0,\n          242.0\n        ],\n        \"semantic_type\": \"\",\n        \"description\": \"\"\n      }\n    },\n    {\n      \"column\": \"CSAT Score\",\n      \"properties\": {\n        \"dtype\": \"number\",\n        \"std\": 30371.417109350994,\n        \"min\": 1.0,\n        \"max\": 85907.0,\n        \"num_unique_values\": 6,\n        \"samples\": [\n          85907.0,\n          4.242157216524847,\n          5.0\n        ],\n        \"semantic_type\": \"\",\n        \"description\": \"\"\n      }\n    }\n  ]\n}"
            }
          },
          "metadata": {},
          "execution_count": 9
        }
      ]
    },
    {
      "cell_type": "markdown",
      "source": [
        "### Variables Description"
      ],
      "metadata": {
        "id": "PBTbrJXOngz2"
      }
    },
    {
      "cell_type": "markdown",
      "source": [
        "| **Column Name**           | **Description**                                                              |\n",
        "| ------------------------- | ---------------------------------------------------------------------------- |\n",
        "| `Unique id`               | A unique identifier for each support interaction/ticket                      |\n",
        "| `channel_name`            | Channel through which the issue was reported (e.g., Email, Inbound, Outcall) |\n",
        "| `category`                | Broad category of the issue (e.g., Returns, Order Related)                   |\n",
        "| `Sub-category`            | More specific description of the issue                                       |\n",
        "| `Customer Remarks`        | Free-text feedback left by the customer after the interaction                |\n",
        "| `Order_id`                | ID of the related order, if applicable                                       |\n",
        "| `order_date_time`         | Timestamp of when the order was placed                                       |\n",
        "| `Issue_reported at`       | Timestamp of when the customer raised the issue                              |\n",
        "| `issue_responded`         | Timestamp of when the issue was first responded to by an agent               |\n",
        "| `Survey_response_Date`    | Date when the customer gave the CSAT feedback                                |\n",
        "| `Customer_City`           | City from which the customer reached out                                     |\n",
        "| `Product_category`        | Type of product involved in the issue                                        |\n",
        "| `Item_price`              | Price of the product related to the issue                                    |\n",
        "| `connected_handling_time` | Time (in minutes) that the agent spent handling the ticket                   |\n",
        "| `Agent_name`              | Name of the support agent who handled the case                               |\n",
        "| `Supervisor`              | Supervisor assigned to the agent                                             |\n",
        "| `Manager`                 | Manager overseeing the agent’s team                                          |\n",
        "| `Tenure Bucket`           | Agent experience range in days (e.g., 0-30, 61-90, >90)                      |\n",
        "| `Agent Shift`             | Shift during which the agent handled the ticket (Morning, Evening, Night)    |\n",
        "| `CSAT Score`              | Customer Satisfaction rating (1 to 5)                                        |\n"
      ],
      "metadata": {
        "id": "aJV4KIxSnxay"
      }
    },
    {
      "cell_type": "markdown",
      "source": [
        "### Check Unique Values for each variable."
      ],
      "metadata": {
        "id": "u3PMJOP6ngxN"
      }
    },
    {
      "cell_type": "code",
      "source": [
        "# Check Unique Values for each variable.\n",
        "df.nunique().sort_values(ascending=False)"
      ],
      "metadata": {
        "id": "zms12Yq5n-jE",
        "colab": {
          "base_uri": "https://localhost:8080/",
          "height": 711
        },
        "outputId": "c0d04079-1853-4da5-8178-88b1e82d583e"
      },
      "execution_count": 10,
      "outputs": [
        {
          "output_type": "execute_result",
          "data": {
            "text/plain": [
              "Unique id                  85907\n",
              "Order_id                   67675\n",
              "Issue_reported at          30923\n",
              "issue_responded            30262\n",
              "Customer Remarks           18231\n",
              "order_date_time            13766\n",
              "Item_price                  2789\n",
              "Customer_City               1782\n",
              "Agent_name                  1371\n",
              "connected_handling_time      211\n",
              "Sub-category                  57\n",
              "Supervisor                    40\n",
              "Survey_response_Date          31\n",
              "category                      12\n",
              "Product_category               9\n",
              "Manager                        6\n",
              "Agent Shift                    5\n",
              "Tenure Bucket                  5\n",
              "CSAT Score                     5\n",
              "channel_name                   3\n",
              "dtype: int64"
            ],
            "text/html": [
              "<div>\n",
              "<style scoped>\n",
              "    .dataframe tbody tr th:only-of-type {\n",
              "        vertical-align: middle;\n",
              "    }\n",
              "\n",
              "    .dataframe tbody tr th {\n",
              "        vertical-align: top;\n",
              "    }\n",
              "\n",
              "    .dataframe thead th {\n",
              "        text-align: right;\n",
              "    }\n",
              "</style>\n",
              "<table border=\"1\" class=\"dataframe\">\n",
              "  <thead>\n",
              "    <tr style=\"text-align: right;\">\n",
              "      <th></th>\n",
              "      <th>0</th>\n",
              "    </tr>\n",
              "  </thead>\n",
              "  <tbody>\n",
              "    <tr>\n",
              "      <th>Unique id</th>\n",
              "      <td>85907</td>\n",
              "    </tr>\n",
              "    <tr>\n",
              "      <th>Order_id</th>\n",
              "      <td>67675</td>\n",
              "    </tr>\n",
              "    <tr>\n",
              "      <th>Issue_reported at</th>\n",
              "      <td>30923</td>\n",
              "    </tr>\n",
              "    <tr>\n",
              "      <th>issue_responded</th>\n",
              "      <td>30262</td>\n",
              "    </tr>\n",
              "    <tr>\n",
              "      <th>Customer Remarks</th>\n",
              "      <td>18231</td>\n",
              "    </tr>\n",
              "    <tr>\n",
              "      <th>order_date_time</th>\n",
              "      <td>13766</td>\n",
              "    </tr>\n",
              "    <tr>\n",
              "      <th>Item_price</th>\n",
              "      <td>2789</td>\n",
              "    </tr>\n",
              "    <tr>\n",
              "      <th>Customer_City</th>\n",
              "      <td>1782</td>\n",
              "    </tr>\n",
              "    <tr>\n",
              "      <th>Agent_name</th>\n",
              "      <td>1371</td>\n",
              "    </tr>\n",
              "    <tr>\n",
              "      <th>connected_handling_time</th>\n",
              "      <td>211</td>\n",
              "    </tr>\n",
              "    <tr>\n",
              "      <th>Sub-category</th>\n",
              "      <td>57</td>\n",
              "    </tr>\n",
              "    <tr>\n",
              "      <th>Supervisor</th>\n",
              "      <td>40</td>\n",
              "    </tr>\n",
              "    <tr>\n",
              "      <th>Survey_response_Date</th>\n",
              "      <td>31</td>\n",
              "    </tr>\n",
              "    <tr>\n",
              "      <th>category</th>\n",
              "      <td>12</td>\n",
              "    </tr>\n",
              "    <tr>\n",
              "      <th>Product_category</th>\n",
              "      <td>9</td>\n",
              "    </tr>\n",
              "    <tr>\n",
              "      <th>Manager</th>\n",
              "      <td>6</td>\n",
              "    </tr>\n",
              "    <tr>\n",
              "      <th>Agent Shift</th>\n",
              "      <td>5</td>\n",
              "    </tr>\n",
              "    <tr>\n",
              "      <th>Tenure Bucket</th>\n",
              "      <td>5</td>\n",
              "    </tr>\n",
              "    <tr>\n",
              "      <th>CSAT Score</th>\n",
              "      <td>5</td>\n",
              "    </tr>\n",
              "    <tr>\n",
              "      <th>channel_name</th>\n",
              "      <td>3</td>\n",
              "    </tr>\n",
              "  </tbody>\n",
              "</table>\n",
              "</div><br><label><b>dtype:</b> int64</label>"
            ]
          },
          "metadata": {},
          "execution_count": 10
        }
      ]
    },
    {
      "cell_type": "markdown",
      "source": [
        "## 3. ***Data Wrangling***"
      ],
      "metadata": {
        "id": "dauF4eBmngu3"
      }
    },
    {
      "cell_type": "markdown",
      "source": [
        "### Data Wrangling Code"
      ],
      "metadata": {
        "id": "bKJF3rekwFvQ"
      }
    },
    {
      "cell_type": "code",
      "source": [
        "# Write your code to make your dataset analysis ready.\n",
        "\n",
        "#change all date to datetime type\n",
        "\n",
        "df['issue_reported_at'] = pd.to_datetime(df['Issue_reported at'], errors='coerce')\n",
        "df['issue_responded'] = pd.to_datetime(df['issue_responded'], errors='coerce')\n",
        "df['response_time_mins'] = (df['issue_responded'] - df['issue_reported_at']).dt.total_seconds() / 60\n",
        "df = df[df['response_time_mins'] >= 0]\n",
        "df = df[df['response_time_mins'] < 10000]\n",
        "\n",
        "df_filtered = df[['CSAT Score', 'channel_name', 'category', 'Sub-category',\n",
        "                  'response_time_mins','connected_handling_time', 'Agent_name', 'Supervisor', 'Manager',\n",
        "                  'Tenure Bucket', 'Agent Shift', 'Item_price']]"
      ],
      "metadata": {
        "id": "wk-9a2fpoLcV"
      },
      "execution_count": 11,
      "outputs": []
    },
    {
      "cell_type": "markdown",
      "source": [
        "### What all manipulations have you done and insights you found?"
      ],
      "metadata": {
        "id": "MSa1f5Uengrz"
      }
    },
    {
      "cell_type": "markdown",
      "source": [
        "#### **Data Manipulations Performed:**\n",
        "\n",
        "1. **Datetime Conversion:**\n",
        "\n",
        "   * Converted the `Issue_reported at` and `issue_responded` columns to proper `datetime` format using `pd.to_datetime()`.\n",
        "   * This enabled accurate time-based analysis.\n",
        "\n",
        "2. **Response Time Calculation:**\n",
        "\n",
        "   * Created a new column `response_time_mins` by calculating the time difference between when the issue was reported and when it was responded to.\n",
        "   * Converted the time difference into minutes.\n",
        "\n",
        "3. **Filtered Invalid/Extreme Data:**\n",
        "\n",
        "   * Removed rows where `response_time_mins` was negative (indicating data entry errors).\n",
        "   * Removed outliers where `response_time_mins` was greater than 10,000 minutes (\\~7 days), which skewed the graphs.\n",
        "\n",
        "4. **Selected Relevant Columns:**\n",
        "\n",
        "   * Created a filtered dataset (`df_filtered`) containing only the columns necessary for CSAT analysis, such as:\n",
        "\n",
        "     * `CSAT Score`, `response_time_mins`, `connected_handling_time`, `Agent_name`, `Tenure Bucket`, etc.\n",
        "\n",
        "---\n",
        "\n",
        "#### **Insights Found:**\n",
        "\n",
        "1. **Required Datasets:**\n",
        "\n",
        "  * The required datas are CSAT, Response Time, Handling Time,Agent, Manager, Supervisor, Tenure Bucket, Agent Shift and few others\n",
        "\n",
        "2. **Response Time:**\n",
        "\n",
        "  * The Difference Between Reported and Responded Time will give the Response Time\n",
        "  \n",
        "  * Response Time shall play a crucial time in finding out CSAT scores.\n",
        "\n",
        "  * It was filtered since the data had both negative and greater than 10,000 minute time frames."
      ],
      "metadata": {
        "id": "LbyXE7I1olp8"
      }
    },
    {
      "cell_type": "markdown",
      "source": [
        "## ***4. Data Vizualization, Storytelling & Experimenting with charts : Understand the relationships between variables***"
      ],
      "metadata": {
        "id": "GF8Ens_Soomf"
      }
    },
    {
      "cell_type": "markdown",
      "source": [
        "#### **1. CSAT Score Plot**"
      ],
      "metadata": {
        "id": "0wOQAZs5pc--"
      }
    },
    {
      "cell_type": "code",
      "source": [
        "sns.countplot(x='CSAT Score', data=df)\n",
        "plt.title(\"Customer Satisfaction Score Distribution\")\n",
        "plt.xlabel(\"CSAT Score\")\n",
        "plt.ylabel(\"Count\")\n",
        "plt.show()"
      ],
      "metadata": {
        "id": "4iOpwF_2pSeg",
        "colab": {
          "base_uri": "https://localhost:8080/",
          "height": 472
        },
        "outputId": "5241845b-7ef1-4f4d-8e80-537ae4c615d4"
      },
      "execution_count": 12,
      "outputs": [
        {
          "output_type": "display_data",
          "data": {
            "text/plain": [
              "<Figure size 640x480 with 1 Axes>"
            ],
            "image/png": "[encoded data removed]"
          },
          "metadata": {}
        }
      ]
    },
    {
      "cell_type": "markdown",
      "source": [
        "##### 1. Why did you pick the specific chart?"
      ],
      "metadata": {
        "id": "K5QZ13OEpz2H"
      }
    },
    {
      "cell_type": "markdown",
      "source": [
        "We chose the countplot because it provides a simple and clear visual of how CSAT scores are distributed across all customer support interactions. It allows us to quickly identify whether the ratings are skewed toward satisfaction or dissatisfaction, which is essential for measuring overall customer sentiment.\n",
        "\n"
      ],
      "metadata": {
        "id": "XESiWehPqBRc"
      }
    },
    {
      "cell_type": "markdown",
      "source": [
        "##### 2. What is/are the insight(s) found from the chart?"
      ],
      "metadata": {
        "id": "lQ7QKXXCp7Bj"
      }
    },
    {
      "cell_type": "markdown",
      "source": [
        "The chart showed that most customers gave a CSAT score of 5, indicating high satisfaction. However, there was also a notable number of 1-star ratings, suggesting that while many interactions are successful, there are recurring issues leading to very poor experiences for some customers which is a sign of polarized satisfaction."
      ],
      "metadata": {
        "id": "C_j1G7yiqdRP"
      }
    },
    {
      "cell_type": "markdown",
      "source": [
        "##### 3. Will the gained insights help creating a positive business impact?\n",
        "Are there any insights that lead to negative growth? Justify with specific reason."
      ],
      "metadata": {
        "id": "448CDAPjqfQr"
      }
    },
    {
      "cell_type": "markdown",
      "source": [
        "Yes, the insights are impactful. Knowing that the majority of customers are highly satisfied confirms that the support team is generally effective. However, the presence of many 1-star ratings points to inconsistencies. If left unchecked, these could damage brand loyalty and lead to churn a negative growth factor. Identifying the root causes behind those low scores (e.g., response time, handling quality, agent behavior) and fixing them can directly improve customer retention and trust."
      ],
      "metadata": {
        "id": "3cspy4FjqxJW"
      }
    },
    {
      "cell_type": "markdown",
      "source": [
        "#### **2. Impact of CSAT w.r.t Response Time (Box Plot)**"
      ],
      "metadata": {
        "id": "KSlN3yHqYklG"
      }
    },
    {
      "cell_type": "code",
      "source": [
        "sns.boxplot(x='CSAT Score', y='response_time_mins', data=df)\n",
        "plt.title(\"CSAT Score vs. Response Time\")\n",
        "plt.xlabel(\"CSAT Score\")\n",
        "plt.ylabel(\"Response Time (Minutes)\")\n",
        "plt.show()"
      ],
      "metadata": {
        "id": "R4YgtaqtYklH",
        "colab": {
          "base_uri": "https://localhost:8080/",
          "height": 472
        },
        "outputId": "29338764-a193-47f6-bdba-ce3fe6cb697c"
      },
      "execution_count": 13,
      "outputs": [
        {
          "output_type": "display_data",
          "data": {
            "text/plain": [
              "<Figure size 640x480 with 1 Axes>"
            ],
            "image/png": "[encoded data removed]"
          },
          "metadata": {}
        }
      ]
    },
    {
      "cell_type": "markdown",
      "source": [
        "##### 1. Why did you pick the specific chart?"
      ],
      "metadata": {
        "id": "t6dVpIINYklI"
      }
    },
    {
      "cell_type": "markdown",
      "source": [
        "We chose this boxplot because it effectively shows how response time (in minutes) varies across different CSAT scores. It provides a compact summary of the median, spread, and outliers for each score level. This helps us clearly observe whether customers who waited longer gave lower ratings which is essential for evaluating the responsiveness of the support team."
      ],
      "metadata": {
        "id": "5aaW0BYyYklI"
      }
    },
    {
      "cell_type": "markdown",
      "source": [
        "##### 2. What is/are the insight(s) found from the chart?"
      ],
      "metadata": {
        "id": "ijmpgYnKYklI"
      }
    },
    {
      "cell_type": "markdown",
      "source": [
        "The chart reveals that:\n",
        "\n",
        "* CSAT 1 ratings have a noticeably higher spread in response times, with many outliers stretching into the 4000–6000 minute range.\n",
        "\n",
        "* On the other hand, CSAT 5 scores tend to have lower median response times, with fewer extreme delays.\n",
        "\n",
        "* This suggests a negative correlation between response time and customer satisfaction. As response time increases, CSAT scores tend to decrease."
      ],
      "metadata": {
        "id": "PSx9atu2YklI"
      }
    },
    {
      "cell_type": "markdown",
      "source": [
        "##### 3. Will the gained insights help creating a positive business impact?\n",
        "Are there any insights that lead to negative growth? Justify with specific reason.`"
      ],
      "metadata": {
        "id": "-JiQyfWJYklI"
      }
    },
    {
      "cell_type": "markdown",
      "source": [
        "Yes, this insight is highly actionable. By reducing response times especially for delayed tickets, the support team can potentially reduce the number of low (1-star) CSAT ratings, improving customer experience and loyalty.\n",
        "\n",
        "Ignoring this insight could lead to negative growth, as delayed responses may drive customers toward frustration and churn. Consistent 1-star ratings could damage brand reputation, increase returns/cancellations, and weaken repeat purchase behavior."
      ],
      "metadata": {
        "id": "BcBbebzrYklV"
      }
    },
    {
      "cell_type": "markdown",
      "source": [
        "#### **3. Impact of CSAT w.r.t Response Time (Regression Plot)**"
      ],
      "metadata": {
        "id": "EM7whBJCYoAo"
      }
    },
    {
      "cell_type": "code",
      "source": [
        "plt.figure(figsize=(10, 6))\n",
        "sns.regplot(data=df, x='response_time_mins', y='CSAT Score',\n",
        "            scatter_kws={'alpha': 0.3}, line_kws={'color': 'red'})\n",
        "plt.title('Impact of Response Time on CSAT Score')\n",
        "plt.xlabel('Response Time (Minutes)')\n",
        "plt.ylabel('CSAT Score')\n",
        "plt.grid(True, linestyle='--', alpha=0.5)\n",
        "plt.tight_layout()\n",
        "plt.show()"
      ],
      "metadata": {
        "id": "t6GMdE67YoAp",
        "colab": {
          "base_uri": "https://localhost:8080/",
          "height": 528
        },
        "outputId": "c044acb4-ce33-4ae3-c9aa-2dd84be31d0d"
      },
      "execution_count": 14,
      "outputs": [
        {
          "output_type": "display_data",
          "data": {
            "text/plain": [
              "<Figure size 1000x600 with 1 Axes>"
            ],
            "image/png": "[encoded data removed]"
          },
          "metadata": {}
        }
      ]
    },
    {
      "cell_type": "markdown",
      "source": [
        "##### 1. Why did you pick the specific chart?"
      ],
      "metadata": {
        "id": "fge-S5ZAYoAp"
      }
    },
    {
      "cell_type": "markdown",
      "source": [
        "I chose a regression plot because it helps visualize the overall trend and correlation between response time and CSAT score. Unlike a boxplot or scatter plot alone, the regression line gives a clear indication of whether CSAT increases or decreases as response time changes. This makes it easier to interpret directional relationships between variables."
      ],
      "metadata": {
        "id": "5dBItgRVYoAp"
      }
    },
    {
      "cell_type": "markdown",
      "source": [
        "##### 2. What is/are the insight(s) found from the chart?"
      ],
      "metadata": {
        "id": "85gYPyotYoAp"
      }
    },
    {
      "cell_type": "markdown",
      "source": [
        "The chart shows a negative slope in the regression line, indicating that as response time increases, CSAT score tends to decrease. Although there is some variation and noise in the data, the overall trend suggests that customers are generally less satisfied when they have to wait longer for a response. This validates the assumption that fast responses contribute to a better support experience."
      ],
      "metadata": {
        "id": "4jstXR6OYoAp"
      }
    },
    {
      "cell_type": "markdown",
      "source": [
        "##### 3. Will the gained insights help creating a positive business impact?\n",
        "Are there any insights that lead to negative growth? Justify with specific reason."
      ],
      "metadata": {
        "id": "RoGjAbkUYoAp"
      }
    },
    {
      "cell_type": "markdown",
      "source": [
        "Yes, the insight can create a strong positive business impact. By optimizing support workflows to reduce response times, The company can potentially improve CSAT scores, leading to happier customers, stronger loyalty, and better brand perception.\n",
        "\n",
        "On the flip side, ignoring this insight can lead to negative growth as customers facing long wait times may leave low ratings, escalate complaints, or even stop using the platform. Addressing slow response tickets can prevent such outcomes and drive meaningful improvements."
      ],
      "metadata": {
        "id": "zfJ8IqMcYoAp"
      }
    },
    {
      "cell_type": "markdown",
      "source": [
        "#### **4. Impact of CSAT w.r.t Channel**"
      ],
      "metadata": {
        "id": "4Of9eVA-YrdM"
      }
    },
    {
      "cell_type": "code",
      "source": [
        "sns.barplot(x='channel_name', y='CSAT Score', data=df)\n",
        "plt.title(\"Average CSAT Score by Channel\")\n",
        "plt.xlabel(\"Channel\")\n",
        "plt.ylabel(\"Average CSAT Score\")\n",
        "plt.show()"
      ],
      "metadata": {
        "id": "irlUoxc8YrdO",
        "colab": {
          "base_uri": "https://localhost:8080/",
          "height": 472
        },
        "outputId": "5265a307-58a3-490e-f478-ead4c12daa4c"
      },
      "execution_count": 15,
      "outputs": [
        {
          "output_type": "display_data",
          "data": {
            "text/plain": [
              "<Figure size 640x480 with 1 Axes>"
            ],
            "image/png": "[encoded data removed]"
          },
          "metadata": {}
        }
      ]
    },
    {
      "cell_type": "markdown",
      "source": [
        "##### 1. Why did you pick the specific chart?"
      ],
      "metadata": {
        "id": "iky9q4vBYrdO"
      }
    },
    {
      "cell_type": "markdown",
      "source": [
        "We chose barplot because it provides a clear, simple comparison of the average CSAT scores across different customer support channels. It helps quickly identify which channels are performing well and which ones are falling behind in terms of customer satisfaction. A barplot is ideal here because the number of categories is small, and we’re comparing mean values."
      ],
      "metadata": {
        "id": "aJRCwT6DYrdO"
      }
    },
    {
      "cell_type": "markdown",
      "source": [
        "##### 2. What is/are the insight(s) found from the chart?"
      ],
      "metadata": {
        "id": "F6T5p64dYrdO"
      }
    },
    {
      "cell_type": "markdown",
      "source": [
        "The chart revealed that:\n",
        "\n",
        "* Outcall and Inbound channels have higher average CSAT scores.\n",
        "\n",
        "* Email support has a noticeably lower average CSAT, indicating that customers are less satisfied when using this channel.\n",
        "\n",
        "* This suggests that real-time or voice-based communication leads to better customer experiences compared to asynchronous ones like email."
      ],
      "metadata": {
        "id": "Xx8WAJvtYrdO"
      }
    },
    {
      "cell_type": "markdown",
      "source": [
        "##### 3. Will the gained insights help creating a positive business impact?\n",
        "Are there any insights that lead to negative growth? Justify with specific reason."
      ],
      "metadata": {
        "id": "y-Ehk30pYrdP"
      }
    },
    {
      "cell_type": "markdown",
      "source": [
        "Yes, this insight is very useful for improving customer experience. If the company can optimize or upgrade its email support process through better templates, faster replies, or more personalized service. It can reduce low CSAT ratings and align email performance with other channels.\n",
        "\n",
        "On the other hand, if the email channel continues to underperform, it could become a pain point for customers, especially those who rely on it as their primary mode of support. This may lead to negative reviews, escalations, or customer churn contributing to negative growth."
      ],
      "metadata": {
        "id": "jLNxxz7MYrdP"
      }
    },
    {
      "cell_type": "markdown",
      "source": [
        "#### **5. Impact of CSAT w.r.t Bottom Agents Perfomance**"
      ],
      "metadata": {
        "id": "bamQiAODYuh1"
      }
    },
    {
      "cell_type": "code",
      "source": [
        "# Group by Agent_name and calculate the mean CSAT Score\n",
        "agent_csat = df.groupby('Agent_name')['CSAT Score'].mean()\n",
        "\n",
        "# Sort in ascending order to find bottom performers and select the top 10\n",
        "bottom_agents = agent_csat.sort_values(ascending=True).head(10)\n",
        "\n",
        "# Create a horizontal bar plot for the bottom 10 agents\n",
        "plt.figure(figsize=(10, 6))\n",
        "bottom_agents.plot(kind='barh')\n",
        "plt.title('Bottom 10 Agents by Avg CSAT Score')\n",
        "plt.xlabel('Average CSAT Score')\n",
        "plt.ylabel('Agent Name')\n",
        "plt.tight_layout()\n",
        "plt.show()"
      ],
      "metadata": {
        "id": "TIJwrbroYuh3",
        "colab": {
          "base_uri": "https://localhost:8080/",
          "height": 528
        },
        "outputId": "82149868-af08-4fff-f6cc-3c6086800092"
      },
      "execution_count": 16,
      "outputs": [
        {
          "output_type": "display_data",
          "data": {
            "text/plain": [
              "<Figure size 1000x600 with 1 Axes>"
            ],
            "image/png": "[encoded data removed]"
          },
          "metadata": {}
        }
      ]
    },
    {
      "cell_type": "markdown",
      "source": [
        "##### 1. Why did you pick the specific chart?"
      ],
      "metadata": {
        "id": "QHF8YVU7Yuh3"
      }
    },
    {
      "cell_type": "markdown",
      "source": [
        "We chose horizontal bar chart to clearly visualize the bottom 10 agents based on their average CSAT scores. Horizontal bars make it easier to read long agent names and directly compare their performance. This chart quickly highlights underperforming agents who may need attention, support, or retraining."
      ],
      "metadata": {
        "id": "dcxuIMRPYuh3"
      }
    },
    {
      "cell_type": "markdown",
      "source": [
        "##### 2. What is/are the insight(s) found from the chart?"
      ],
      "metadata": {
        "id": "GwzvFGzlYuh3"
      }
    },
    {
      "cell_type": "markdown",
      "source": [
        "The chart reveals a clear gap in performance among the bottom agents:\n",
        "\n",
        "* These agents consistently receive lower average CSAT scores, often below 3.\n",
        "\n",
        "* This could be due to lack of experience, poor communication, or inadequate handling of customer issues.\n",
        "\n",
        "* The consistency in low scores suggests that the issue may not be one-off, but part of a recurring pattern.\n",
        "\n"
      ],
      "metadata": {
        "id": "uyqkiB8YYuh3"
      }
    },
    {
      "cell_type": "markdown",
      "source": [
        "##### 3. Will the gained insights help creating a positive business impact?\n",
        "Are there any insights that lead to negative growth? Justify with specific reason."
      ],
      "metadata": {
        "id": "qYpmQ266Yuh3"
      }
    },
    {
      "cell_type": "markdown",
      "source": [
        "Yes, these insights can be used to create a positive impact by:\n",
        "\n",
        "* Identifying agents who need targeted training or mentoring\n",
        "\n",
        "* Monitoring improvement over time to ensure quality standards are met\n",
        "\n",
        "If these insights are ignored, the underperformance may continue, leading to:\n",
        "\n",
        "* More 1-star ratings\n",
        "\n",
        "* Customer dissatisfaction\n",
        "\n",
        "* Overall decline in brand trust, all of which contribute to negative growth"
      ],
      "metadata": {
        "id": "_WtzZ_hCYuh4"
      }
    },
    {
      "cell_type": "markdown",
      "source": [
        "#### **6. Impact of CSAT w.r.t Top Agents Perfomance**"
      ],
      "metadata": {
        "id": "OH-pJp9IphqM"
      }
    },
    {
      "cell_type": "code",
      "source": [
        "# Sort in descending order to find top performers and select the top 10\n",
        "top_agents = agent_csat.sort_values(ascending=False).head(10)\n",
        "\n",
        "# Create a horizontal bar plot for the top 10 agents\n",
        "plt.figure(figsize=(10, 6))\n",
        "top_agents.plot(kind='barh')\n",
        "plt.title('Top 10 Agents by Avg CSAT Score')\n",
        "plt.xlabel('Average CSAT Score')\n",
        "plt.ylabel('Agent Name')\n",
        "plt.tight_layout()\n",
        "plt.show()"
      ],
      "metadata": {
        "id": "kuRf4wtuphqN",
        "colab": {
          "base_uri": "https://localhost:8080/",
          "height": 528
        },
        "outputId": "3317595e-4729-4290-a44c-31d9f573d7d5"
      },
      "execution_count": 17,
      "outputs": [
        {
          "output_type": "display_data",
          "data": {
            "text/plain": [
              "<Figure size 1000x600 with 1 Axes>"
            ],
            "image/png": "[encoded data removed]"
          },
          "metadata": {}
        }
      ]
    },
    {
      "cell_type": "markdown",
      "source": [
        "##### 1. Why did you pick the specific chart?"
      ],
      "metadata": {
        "id": "bbFf2-_FphqN"
      }
    },
    {
      "cell_type": "markdown",
      "source": [
        "We chose horizontal bar chart to display the top 10 agents ranked by their average CSAT scores. This format is ideal for showing performance rankings, especially when agent names are long. It clearly highlights which agents are consistently delivering high customer satisfaction, making it easy to recognize top performers.`"
      ],
      "metadata": {
        "id": "loh7H2nzphqN"
      }
    },
    {
      "cell_type": "markdown",
      "source": [
        "##### 2. What is/are the insight(s) found from the chart?"
      ],
      "metadata": {
        "id": "_ouA3fa0phqN"
      }
    },
    {
      "cell_type": "markdown",
      "source": [
        "The chart shows that these top 10 agents have maintained average CSAT scores close to 5, indicating:\n",
        "\n",
        "* High levels of customer satisfaction\n",
        "\n",
        "* Consistent service quality\n",
        "\n",
        "* Possibly better issue resolution skills or communication styles\n",
        "\n",
        "These agents serve as benchmarks for performance and can provide best practices or peer training to others."
      ],
      "metadata": {
        "id": "VECbqPI7phqN"
      }
    },
    {
      "cell_type": "markdown",
      "source": [
        "##### 3. Will the gained insights help creating a positive business impact?\n",
        "Are there any insights that lead to negative growth? Justify with specific reason."
      ],
      "metadata": {
        "id": "Seke61FWphqN"
      }
    },
    {
      "cell_type": "markdown",
      "source": [
        "Yes, this insight can help create a positive business impact by:\n",
        "\n",
        "* Recognizing and rewarding top performers, which boosts morale\n",
        "\n",
        "* Leveraging their techniques to train lower-performing agents\n",
        "\n",
        "* Encouraging a culture of excellence and consistency\n",
        "\n",
        "Ignoring top performers might lead to demotivation or attrition, which could negatively impact team performance and growth over time. So celebrating these agents also helps in retaining talent and sustaining high CSAT scores."
      ],
      "metadata": {
        "id": "DW4_bGpfphqN"
      }
    },
    {
      "cell_type": "markdown",
      "source": [
        "#### **7. Impact of CSAT w.r.t Manager Perfomance**"
      ],
      "metadata": {
        "id": "PIIx-8_IphqN"
      }
    },
    {
      "cell_type": "code",
      "source": [
        "#5. Manager Perfomance\n",
        "\n",
        "top_managers = df.groupby('Manager')['CSAT Score'].mean().sort_values(ascending=True).head(6)\n",
        "top_managers.plot(kind='barh')\n",
        "plt.title('Top Managers by Avg CSAT Score')\n",
        "plt.xlabel('Average CSAT Score')\n",
        "plt.ylabel('Manager')\n",
        "plt.show()"
      ],
      "metadata": {
        "id": "lqAIGUfyphqO",
        "colab": {
          "base_uri": "https://localhost:8080/",
          "height": 472
        },
        "outputId": "1e4cc5c8-8dbf-438a-a2f7-8e5bd4895e5f"
      },
      "execution_count": 18,
      "outputs": [
        {
          "output_type": "display_data",
          "data": {
            "text/plain": [
              "<Figure size 640x480 with 1 Axes>"
            ],
            "image/png": "[encoded data removed]"
          },
          "metadata": {}
        }
      ]
    },
    {
      "cell_type": "markdown",
      "source": [
        "##### 1. Why did you pick the specific chart?"
      ],
      "metadata": {
        "id": "t27r6nlMphqO"
      }
    },
    {
      "cell_type": "markdown",
      "source": [
        "We chose horizontal bar chart because it clearly visualizes the average CSAT scores managed under each manager. Since manager names can be long and categorical, a horizontal layout makes it easier to read and compare. This format helps identify which managers consistently lead high-performing teams and which ones might need further evaluation or support."
      ],
      "metadata": {
        "id": "iv6ro40sphqO"
      }
    },
    {
      "cell_type": "markdown",
      "source": [
        "##### 2. What is/are the insight(s) found from the chart?"
      ],
      "metadata": {
        "id": "r2jJGEOYphqO"
      }
    },
    {
      "cell_type": "markdown",
      "source": [
        "The chart shows that while most managers maintain good CSAT scores, there are noticeable variations:\n",
        "\n",
        "* Some managers have near-perfect averages, indicating effective leadership, agent development, and process management.\n",
        "\n",
        "* Others fall slightly behind, which may be due to less effective team supervision, agent quality, or process breakdowns.\n",
        "\n",
        "These differences highlight how leadership quality can impact team performance and customer satisfaction."
      ],
      "metadata": {
        "id": "Po6ZPi4hphqO"
      }
    },
    {
      "cell_type": "markdown",
      "source": [
        "##### 3. Will the gained insights help creating a positive business impact?\n",
        "Are there any insights that lead to negative growth? Justify with specific reason."
      ],
      "metadata": {
        "id": "b0JNsNcRphqO"
      }
    },
    {
      "cell_type": "markdown",
      "source": [
        "Yes, these insights can drive positive impact by:\n",
        "\n",
        "* Identifying high-performing managers whose methods can be replicated across other teams\n",
        "\n",
        "* Pinpointing underperforming managers for training or process review\n",
        "\n",
        "* Supporting consistent CSAT improvement across all teams\n",
        "\n",
        "Ignoring performance gaps between managers may lead to inconsistent customer service, morale issues, and lower overall CSAT, which can contribute to negative customer experience and long-term churn"
      ],
      "metadata": {
        "id": "xvSq8iUTphqO"
      }
    },
    {
      "cell_type": "markdown",
      "source": [
        "#### **8. Impact of CSAT w.r.t Agent Tenure Bucket**"
      ],
      "metadata": {
        "id": "BZR9WyysphqO"
      }
    },
    {
      "cell_type": "code",
      "source": [
        "plt.figure(figsize=(10,6))\n",
        "sns.countplot(data=df, x='Tenure Bucket', hue='CSAT Score', palette='Set2')\n",
        "plt.title(\"CSAT Score Distribution by Agent Tenure\")\n",
        "plt.xlabel(\"Agent Tenure\")\n",
        "plt.ylabel(\"Number of Responses\")\n",
        "plt.legend(title=\"CSAT Score\")\n",
        "plt.xticks(rotation=45)\n",
        "plt.tight_layout()\n",
        "plt.show()"
      ],
      "metadata": {
        "id": "TdPTWpAVphqO",
        "colab": {
          "base_uri": "https://localhost:8080/",
          "height": 528
        },
        "outputId": "14a3eabb-16a8-4044-cb24-64e259e879e6"
      },
      "execution_count": 19,
      "outputs": [
        {
          "output_type": "display_data",
          "data": {
            "text/plain": [
              "<Figure size 1000x600 with 1 Axes>"
            ],
            "image/png": "[encoded data removed]"
          },
          "metadata": {}
        }
      ]
    },
    {
      "cell_type": "markdown",
      "source": [
        "Since I wanted to see the ratio of 1 star and 5 star among all tenure buckets more precisely, i developed this code too."
      ],
      "metadata": {
        "id": "vJ2-Luin9h3h"
      }
    },
    {
      "cell_type": "code",
      "source": [
        "# Filter the DataFrame to include only CSAT scores of 1 and 5\n",
        "csat_1_5_df = df[df['CSAT Score'].isin([1, 5])]\n",
        "\n",
        "# Group by 'Tenure Bucket' and 'CSAT Score' and count the occurrences\n",
        "tenure_csat_counts = csat_1_5_df.groupby(['Tenure Bucket', 'CSAT Score']).size().unstack(fill_value=0)\n",
        "\n",
        "# Calculate the total count for each tenure bucket\n",
        "tenure_counts = df['Tenure Bucket'].value_counts()\n",
        "\n",
        "# Calculate the ratio of 1 and 5 CSAT scores for each tenure bucket\n",
        "tenure_ratios = pd.DataFrame({\n",
        "    'Ratio_CSAT_1': tenure_csat_counts[1] / tenure_counts,\n",
        "    'Ratio_CSAT_5': tenure_csat_counts[5] / tenure_counts\n",
        "})\n",
        "\n",
        "# Display the ratios\n",
        "print(\"Ratio of 1-star and 5-star CSAT Scores by Agent Tenure:\")\n",
        "display(tenure_ratios)"
      ],
      "metadata": {
        "colab": {
          "base_uri": "https://localhost:8080/",
          "height": 255
        },
        "id": "W7wtRO6g9e6q",
        "outputId": "513f4898-4f58-4eb8-b7eb-3fb9f1918f3f"
      },
      "execution_count": 20,
      "outputs": [
        {
          "output_type": "stream",
          "name": "stdout",
          "text": [
            "Ratio of 1-star and 5-star CSAT Scores by Agent Tenure:\n"
          ]
        },
        {
          "output_type": "display_data",
          "data": {
            "text/plain": [
              "                 Ratio_CSAT_1  Ratio_CSAT_5\n",
              "Tenure Bucket                              \n",
              "0-30                 0.119535      0.701876\n",
              "31-60                0.112882      0.719314\n",
              "61-90                0.101084      0.735565\n",
              ">90                  0.122126      0.712223\n",
              "On Job Training      0.149471      0.660513"
            ],
            "text/html": [
              "\n",
              "  <div id=\"df-c13ddd3c-c901-4992-a244-d8a9f3a0b532\" class=\"colab-df-container\">\n",
              "    <div>\n",
              "<style scoped>\n",
              "    .dataframe tbody tr th:only-of-type {\n",
              "        vertical-align: middle;\n",
              "    }\n",
              "\n",
              "    .dataframe tbody tr th {\n",
              "        vertical-align: top;\n",
              "    }\n",
              "\n",
              "    .dataframe thead th {\n",
              "        text-align: right;\n",
              "    }\n",
              "</style>\n",
              "<table border=\"1\" class=\"dataframe\">\n",
              "  <thead>\n",
              "    <tr style=\"text-align: right;\">\n",
              "      <th></th>\n",
              "      <th>Ratio_CSAT_1</th>\n",
              "      <th>Ratio_CSAT_5</th>\n",
              "    </tr>\n",
              "    <tr>\n",
              "      <th>Tenure Bucket</th>\n",
              "      <th></th>\n",
              "      <th></th>\n",
              "    </tr>\n",
              "  </thead>\n",
              "  <tbody>\n",
              "    <tr>\n",
              "      <th>0-30</th>\n",
              "      <td>0.119535</td>\n",
              "      <td>0.701876</td>\n",
              "    </tr>\n",
              "    <tr>\n",
              "      <th>31-60</th>\n",
              "      <td>0.112882</td>\n",
              "      <td>0.719314</td>\n",
              "    </tr>\n",
              "    <tr>\n",
              "      <th>61-90</th>\n",
              "      <td>0.101084</td>\n",
              "      <td>0.735565</td>\n",
              "    </tr>\n",
              "    <tr>\n",
              "      <th>&gt;90</th>\n",
              "      <td>0.122126</td>\n",
              "      <td>0.712223</td>\n",
              "    </tr>\n",
              "    <tr>\n",
              "      <th>On Job Training</th>\n",
              "      <td>0.149471</td>\n",
              "      <td>0.660513</td>\n",
              "    </tr>\n",
              "  </tbody>\n",
              "</table>\n",
              "</div>\n",
              "    <div class=\"colab-df-buttons\">\n",
              "\n",
              "  <div class=\"colab-df-container\">\n",
              "    <button class=\"colab-df-convert\" onclick=\"convertToInteractive('df-c13ddd3c-c901-4992-a244-d8a9f3a0b532')\"\n",
              "            title=\"Convert this dataframe to an interactive table.\"\n",
              "            style=\"display:none;\">\n",
              "\n",
              "  <svg xmlns=\"http://www.w3.org/2000/svg\" height=\"24px\" viewBox=\"0 -960 960 960\">\n",
              "    <path d=\"M120-120v-720h720v720H120Zm60-500h600v-160H180v160Zm220 220h160v-160H400v160Zm0 220h160v-160H400v160ZM180-400h160v-160H180v160Zm440 0h160v-160H620v160ZM180-180h160v-160H180v160Zm440 0h160v-160H620v160Z\"/>\n",
              "  </svg>\n",
              "    </button>\n",
              "\n",
              "  <style>\n",
              "    .colab-df-container {\n",
              "      display:flex;\n",
              "      gap: 12px;\n",
              "    }\n",
              "\n",
              "    .colab-df-convert {\n",
              "      background-color: #E8F0FE;\n",
              "      border: none;\n",
              "      border-radius: 50%;\n",
              "      cursor: pointer;\n",
              "      display: none;\n",
              "      fill: #1967D2;\n",
              "      height: 32px;\n",
              "      padding: 0 0 0 0;\n",
              "      width: 32px;\n",
              "    }\n",
              "\n",
              "    .colab-df-convert:hover {\n",
              "      background-color: #E2EBFA;\n",
              "      box-shadow: 0px 1px 2px rgba(60, 64, 67, 0.3), 0px 1px 3px 1px rgba(60, 64, 67, 0.15);\n",
              "      fill: #174EA6;\n",
              "    }\n",
              "\n",
              "    .colab-df-buttons div {\n",
              "      margin-bottom: 4px;\n",
              "    }\n",
              "\n",
              "    [theme=dark] .colab-df-convert {\n",
              "      background-color: #3B4455;\n",
              "      fill: #D2E3FC;\n",
              "    }\n",
              "\n",
              "    [theme=dark] .colab-df-convert:hover {\n",
              "      background-color: #434B5C;\n",
              "      box-shadow: 0px 1px 3px 1px rgba(0, 0, 0, 0.15);\n",
              "      filter: drop-shadow(0px 1px 2px rgba(0, 0, 0, 0.3));\n",
              "      fill: #FFFFFF;\n",
              "    }\n",
              "  </style>\n",
              "\n",
              "    <script>\n",
              "      const buttonEl =\n",
              "        document.querySelector('#df-c13ddd3c-c901-4992-a244-d8a9f3a0b532 button.colab-df-convert');\n",
              "      buttonEl.style.display =\n",
              "        google.colab.kernel.accessAllowed ? 'block' : 'none';\n",
              "\n",
              "      async function convertToInteractive(key) {\n",
              "        const element = document.querySelector('#df-c13ddd3c-c901-4992-a244-d8a9f3a0b532');\n",
              "        const dataTable =\n",
              "          await google.colab.kernel.invokeFunction('convertToInteractive',\n",
              "                                                    [key], {});\n",
              "        if (!dataTable) return;\n",
              "\n",
              "        const docLinkHtml = 'Like what you see? Visit the ' +\n",
              "          '<a target=\"_blank\" href=https://colab.research.google.com/notebooks/data_table.ipynb>data table notebook</a>'\n",
              "          + ' to learn more about interactive tables.';\n",
              "        element.innerHTML = '';\n",
              "        dataTable['output_type'] = 'display_data';\n",
              "        await google.colab.output.renderOutput(dataTable, element);\n",
              "        const docLink = document.createElement('div');\n",
              "        docLink.innerHTML = docLinkHtml;\n",
              "        element.appendChild(docLink);\n",
              "      }\n",
              "    </script>\n",
              "  </div>\n",
              "\n",
              "\n",
              "    <div id=\"df-5553f5fd-e59e-4140-8b28-77d4d488f162\">\n",
              "      <button class=\"colab-df-quickchart\" onclick=\"quickchart('df-5553f5fd-e59e-4140-8b28-77d4d488f162')\"\n",
              "                title=\"Suggest charts\"\n",
              "                style=\"display:none;\">\n",
              "\n",
              "<svg xmlns=\"http://www.w3.org/2000/svg\" height=\"24px\"viewBox=\"0 0 24 24\"\n",
              "     width=\"24px\">\n",
              "    <g>\n",
              "        <path d=\"M19 3H5c-1.1 0-2 .9-2 2v14c0 1.1.9 2 2 2h14c1.1 0 2-.9 2-2V5c0-1.1-.9-2-2-2zM9 17H7v-7h2v7zm4 0h-2V7h2v10zm4 0h-2v-4h2v4z\"/>\n",
              "    </g>\n",
              "</svg>\n",
              "      </button>\n",
              "\n",
              "<style>\n",
              "  .colab-df-quickchart {\n",
              "      --bg-color: #E8F0FE;\n",
              "      --fill-color: #1967D2;\n",
              "      --hover-bg-color: #E2EBFA;\n",
              "      --hover-fill-color: #174EA6;\n",
              "      --disabled-fill-color: #AAA;\n",
              "      --disabled-bg-color: #DDD;\n",
              "  }\n",
              "\n",
              "  [theme=dark] .colab-df-quickchart {\n",
              "      --bg-color: #3B4455;\n",
              "      --fill-color: #D2E3FC;\n",
              "      --hover-bg-color: #434B5C;\n",
              "      --hover-fill-color: #FFFFFF;\n",
              "      --disabled-bg-color: #3B4455;\n",
              "      --disabled-fill-color: #666;\n",
              "  }\n",
              "\n",
              "  .colab-df-quickchart {\n",
              "    background-color: var(--bg-color);\n",
              "    border: none;\n",
              "    border-radius: 50%;\n",
              "    cursor: pointer;\n",
              "    display: none;\n",
              "    fill: var(--fill-color);\n",
              "    height: 32px;\n",
              "    padding: 0;\n",
              "    width: 32px;\n",
              "  }\n",
              "\n",
              "  .colab-df-quickchart:hover {\n",
              "    background-color: var(--hover-bg-color);\n",
              "    box-shadow: 0 1px 2px rgba(60, 64, 67, 0.3), 0 1px 3px 1px rgba(60, 64, 67, 0.15);\n",
              "    fill: var(--button-hover-fill-color);\n",
              "  }\n",
              "\n",
              "  .colab-df-quickchart-complete:disabled,\n",
              "  .colab-df-quickchart-complete:disabled:hover {\n",
              "    background-color: var(--disabled-bg-color);\n",
              "    fill: var(--disabled-fill-color);\n",
              "    box-shadow: none;\n",
              "  }\n",
              "\n",
              "  .colab-df-spinner {\n",
              "    border: 2px solid var(--fill-color);\n",
              "    border-color: transparent;\n",
              "    border-bottom-color: var(--fill-color);\n",
              "    animation:\n",
              "      spin 1s steps(1) infinite;\n",
              "  }\n",
              "\n",
              "  @keyframes spin {\n",
              "    0% {\n",
              "      border-color: transparent;\n",
              "      border-bottom-color: var(--fill-color);\n",
              "      border-left-color: var(--fill-color);\n",
              "    }\n",
              "    20% {\n",
              "      border-color: transparent;\n",
              "      border-left-color: var(--fill-color);\n",
              "      border-top-color: var(--fill-color);\n",
              "    }\n",
              "    30% {\n",
              "      border-color: transparent;\n",
              "      border-left-color: var(--fill-color);\n",
              "      border-top-color: var(--fill-color);\n",
              "      border-right-color: var(--fill-color);\n",
              "    }\n",
              "    40% {\n",
              "      border-color: transparent;\n",
              "      border-right-color: var(--fill-color);\n",
              "      border-top-color: var(--fill-color);\n",
              "    }\n",
              "    60% {\n",
              "      border-color: transparent;\n",
              "      border-right-color: var(--fill-color);\n",
              "    }\n",
              "    80% {\n",
              "      border-color: transparent;\n",
              "      border-right-color: var(--fill-color);\n",
              "      border-bottom-color: var(--fill-color);\n",
              "    }\n",
              "    90% {\n",
              "      border-color: transparent;\n",
              "      border-bottom-color: var(--fill-color);\n",
              "    }\n",
              "  }\n",
              "</style>\n",
              "\n",
              "      <script>\n",
              "        async function quickchart(key) {\n",
              "          const quickchartButtonEl =\n",
              "            document.querySelector('#' + key + ' button');\n",
              "          quickchartButtonEl.disabled = true;  // To prevent multiple clicks.\n",
              "          quickchartButtonEl.classList.add('colab-df-spinner');\n",
              "          try {\n",
              "            const charts = await google.colab.kernel.invokeFunction(\n",
              "                'suggestCharts', [key], {});\n",
              "          } catch (error) {\n",
              "            console.error('Error during call to suggestCharts:', error);\n",
              "          }\n",
              "          quickchartButtonEl.classList.remove('colab-df-spinner');\n",
              "          quickchartButtonEl.classList.add('colab-df-quickchart-complete');\n",
              "        }\n",
              "        (() => {\n",
              "          let quickchartButtonEl =\n",
              "            document.querySelector('#df-5553f5fd-e59e-4140-8b28-77d4d488f162 button');\n",
              "          quickchartButtonEl.style.display =\n",
              "            google.colab.kernel.accessAllowed ? 'block' : 'none';\n",
              "        })();\n",
              "      </script>\n",
              "    </div>\n",
              "\n",
              "  <div id=\"id_dc8c79b7-9504-4b81-811a-4aeea6985b05\">\n",
              "    <style>\n",
              "      .colab-df-generate {\n",
              "        background-color: #E8F0FE;\n",
              "        border: none;\n",
              "        border-radius: 50%;\n",
              "        cursor: pointer;\n",
              "        display: none;\n",
              "        fill: #1967D2;\n",
              "        height: 32px;\n",
              "        padding: 0 0 0 0;\n",
              "        width: 32px;\n",
              "      }\n",
              "\n",
              "      .colab-df-generate:hover {\n",
              "        background-color: #E2EBFA;\n",
              "        box-shadow: 0px 1px 2px rgba(60, 64, 67, 0.3), 0px 1px 3px 1px rgba(60, 64, 67, 0.15);\n",
              "        fill: #174EA6;\n",
              "      }\n",
              "\n",
              "      [theme=dark] .colab-df-generate {\n",
              "        background-color: #3B4455;\n",
              "        fill: #D2E3FC;\n",
              "      }\n",
              "\n",
              "      [theme=dark] .colab-df-generate:hover {\n",
              "        background-color: #434B5C;\n",
              "        box-shadow: 0px 1px 3px 1px rgba(0, 0, 0, 0.15);\n",
              "        filter: drop-shadow(0px 1px 2px rgba(0, 0, 0, 0.3));\n",
              "        fill: #FFFFFF;\n",
              "      }\n",
              "    </style>\n",
              "    <button class=\"colab-df-generate\" onclick=\"generateWithVariable('tenure_ratios')\"\n",
              "            title=\"Generate code using this dataframe.\"\n",
              "            style=\"display:none;\">\n",
              "\n",
              "  <svg xmlns=\"http://www.w3.org/2000/svg\" height=\"24px\"viewBox=\"0 0 24 24\"\n",
              "       width=\"24px\">\n",
              "    <path d=\"M7,19H8.4L18.45,9,17,7.55,7,17.6ZM5,21V16.75L18.45,3.32a2,2,0,0,1,2.83,0l1.4,1.43a1.91,1.91,0,0,1,.58,1.4,1.91,1.91,0,0,1-.58,1.4L9.25,21ZM18.45,9,17,7.55Zm-12,3A5.31,5.31,0,0,0,4.9,8.1,5.31,5.31,0,0,0,1,6.5,5.31,5.31,0,0,0,4.9,4.9,5.31,5.31,0,0,0,6.5,1,5.31,5.31,0,0,0,8.1,4.9,5.31,5.31,0,0,0,12,6.5,5.46,5.46,0,0,0,6.5,12Z\"/>\n",
              "  </svg>\n",
              "    </button>\n",
              "    <script>\n",
              "      (() => {\n",
              "      const buttonEl =\n",
              "        document.querySelector('#id_dc8c79b7-9504-4b81-811a-4aeea6985b05 button.colab-df-generate');\n",
              "      buttonEl.style.display =\n",
              "        google.colab.kernel.accessAllowed ? 'block' : 'none';\n",
              "\n",
              "      buttonEl.onclick = () => {\n",
              "        google.colab.notebook.generateWithVariable('tenure_ratios');\n",
              "      }\n",
              "      })();\n",
              "    </script>\n",
              "  </div>\n",
              "\n",
              "    </div>\n",
              "  </div>\n"
            ],
            "application/vnd.google.colaboratory.intrinsic+json": {
              "type": "dataframe",
              "variable_name": "tenure_ratios",
              "summary": "{\n  \"name\": \"tenure_ratios\",\n  \"rows\": 5,\n  \"fields\": [\n    {\n      \"column\": \"Tenure Bucket\",\n      \"properties\": {\n        \"dtype\": \"string\",\n        \"num_unique_values\": 5,\n        \"samples\": [\n          \"31-60\",\n          \"On Job Training\",\n          \"61-90\"\n        ],\n        \"semantic_type\": \"\",\n        \"description\": \"\"\n      }\n    },\n    {\n      \"column\": \"Ratio_CSAT_1\",\n      \"properties\": {\n        \"dtype\": \"number\",\n        \"std\": 0.017864684692409313,\n        \"min\": 0.10108361636745916,\n        \"max\": 0.14947135061391542,\n        \"num_unique_values\": 5,\n        \"samples\": [\n          0.11288241798746775,\n          0.14947135061391542,\n          0.10108361636745916\n        ],\n        \"semantic_type\": \"\",\n        \"description\": \"\"\n      }\n    },\n    {\n      \"column\": \"Ratio_CSAT_5\",\n      \"properties\": {\n        \"dtype\": \"number\",\n        \"std\": 0.028178442039393948,\n        \"min\": 0.6605133015006821,\n        \"max\": 0.7355652595827268,\n        \"num_unique_values\": 5,\n        \"samples\": [\n          0.7193144120899373,\n          0.6605133015006821,\n          0.7355652595827268\n        ],\n        \"semantic_type\": \"\",\n        \"description\": \"\"\n      }\n    }\n  ]\n}"
            }
          },
          "metadata": {}
        }
      ]
    },
    {
      "cell_type": "markdown",
      "source": [
        "From this you can see that\n",
        "* On Job Training have highest 1 star ratio and lowest 5 star ratio.\n",
        "* 61-90 has the lowest 1 star rating and highest 5 star rating\n",
        "* >90 has a 5 star rating lower than 31-90 period bucket just above the freshers and 30 day bucket and the second highest 1 star ratings just above the job training bucket\n",
        "\n",
        "This helps to verify the claims below and disprove the myth/fact that CSAT and Experience are proportional\n",
        "\n",
        "\n",
        "\n",
        "---\n",
        "\n"
      ],
      "metadata": {
        "id": "uPZCiH-Q9rje"
      }
    },
    {
      "cell_type": "markdown",
      "source": [
        "##### 1. Why did you pick the specific chart?"
      ],
      "metadata": {
        "id": "jj7wYXLtphqO"
      }
    },
    {
      "cell_type": "markdown",
      "source": [
        "We chose the countplot to visualize how customer satisfaction (CSAT) scores vary across different agent tenure groups. This chart is ideal because it clearly shows both the volume and distribution of ratings (1 to 5) for each tenure bucket. It helps analyze whether agent experience level influences customer satisfaction, and whether newly onboarded or long-serving agents are performing better."
      ],
      "metadata": {
        "id": "Ob8u6rCTphqO"
      }
    },
    {
      "cell_type": "markdown",
      "source": [
        "##### 2. What is/are the insight(s) found from the chart?"
      ],
      "metadata": {
        "id": "eZrbJ2SmphqO"
      }
    },
    {
      "cell_type": "markdown",
      "source": [
        "The chart revealed a few key patterns:\n",
        "\n",
        "* Agents in the \"On Job Training\" bucket have higher proportions of 1-star ratings, suggesting a performance issue during the early onboarding phase.\n",
        "\n",
        "* Interestingly, agents in the \"61–90\" day bucket appear to perform best, with fewer low ratings and more 5-star scores.\n",
        "\n",
        "* However, the \">90\" bucket (most experienced agents) still show a notable number of 1-star ratings indicating that longer tenure doesn’t automatically lead to better performance, and may require ongoing feedback or training.\n",
        "\n",
        "Overall, mid-tenure agents (61–90) seem to hit a performance sweet spot."
      ],
      "metadata": {
        "id": "mZtgC_hjphqO"
      }
    },
    {
      "cell_type": "markdown",
      "source": [
        "##### 3. Will the gained insights help creating a positive business impact?\n",
        "Are there any insights that lead to negative growth? Justify with specific reason."
      ],
      "metadata": {
        "id": "rFu4xreNphqO"
      }
    },
    {
      "cell_type": "markdown",
      "source": [
        "Yes, these insights are highly actionable. They suggest that:\n",
        "\n",
        "* Early-stage agents (especially trainees) may benefit from more structured mentoring or support to avoid poor customer experiences.\n",
        "\n",
        "* Mid-tenure agents can be studied further to replicate their practices across other tenure groups.\n",
        "\n",
        "* For experienced agents with increasing 1-star ratings, complacency or fatigue might be affecting quality — regular feedback loops or refresher sessions can help.\n",
        "\n",
        "Ignoring these patterns could lead to customer dissatisfaction during onboarding or agent burnout at later stages, both of which negatively impact service consistency and CSAT."
      ],
      "metadata": {
        "id": "ey_0qi68phqO"
      }
    },
    {
      "cell_type": "markdown",
      "source": [
        "#### **9. Impact of CSAT w.r.t Agent Shift**"
      ],
      "metadata": {
        "id": "YJ55k-q6phqO"
      }
    },
    {
      "cell_type": "code",
      "source": [
        "plt.figure(figsize=(10,6))\n",
        "sns.countplot(data=df, x='Agent Shift', hue='CSAT Score', palette='Set2')\n",
        "plt.title(\"CSAT Score Distribution by Agent Shift\")\n",
        "plt.xlabel(\"Agent Shift\")\n",
        "plt.ylabel(\"Number of Responses\")\n",
        "plt.legend(title=\"CSAT Score\")\n",
        "plt.xticks(rotation=45)\n",
        "plt.tight_layout()\n",
        "plt.show()"
      ],
      "metadata": {
        "id": "B2aS4O1ophqO",
        "colab": {
          "base_uri": "https://localhost:8080/",
          "height": 528
        },
        "outputId": "464b6202-56dd-4c20-9584-55d87b790244"
      },
      "execution_count": 21,
      "outputs": [
        {
          "output_type": "display_data",
          "data": {
            "text/plain": [
              "<Figure size 1000x600 with 1 Axes>"
            ],
            "image/png": "[encoded data removed]"
          },
          "metadata": {}
        }
      ]
    },
    {
      "cell_type": "markdown",
      "source": [
        "##### 1. Why did you pick the specific chart?"
      ],
      "metadata": {
        "id": "gCFgpxoyphqP"
      }
    },
    {
      "cell_type": "markdown",
      "source": [
        "We chose the countplot to visualize how CSAT scores vary across different agent shifts (Morning, Evening, and Night). This chart allows us to easily compare the volume of customer ratings received during each shift and analyze how agent availability and time of day might influence customer satisfaction. It’s effective for spotting shift-wise service quality trends that might not be obvious from summary statistics."
      ],
      "metadata": {
        "id": "TVxDimi2phqP"
      }
    },
    {
      "cell_type": "markdown",
      "source": [
        "##### 2. What is/are the insight(s) found from the chart?"
      ],
      "metadata": {
        "id": "OVtJsKN_phqQ"
      }
    },
    {
      "cell_type": "markdown",
      "source": [
        "The chart revealed that:\n",
        "\n",
        "* Morning and Evening shifts handle the majority of customer interactions, with both receiving high volumes of 5-star and 1-star ratings.\n",
        "\n",
        "* Night shift has a significantly lower volume but shows more consistency, with relatively fewer 1-star ratings.\n",
        "\n",
        "* The evening shift had slightly higher instances of 1-star ratings than other shifts, which might indicate issues like fatigue, agent overload, or lack of senior support during those hours."
      ],
      "metadata": {
        "id": "ngGi97qjphqQ"
      }
    },
    {
      "cell_type": "markdown",
      "source": [
        "##### 3. Will the gained insights help creating a positive business impact?\n",
        "Are there any insights that lead to negative growth? Justify with specific reason."
      ],
      "metadata": {
        "id": "lssrdh5qphqQ"
      }
    },
    {
      "cell_type": "markdown",
      "source": [
        "Yes, the insights from this graph can lead to a positive business impact:\n",
        "\n",
        "* Knowing which shifts receive more negative CSAT ratings allows the business to allocate better resources, such as senior agents, training, or backup support, to the affected time slots.\n",
        "\n",
        "* The Night shift's consistency, despite fewer interactions, can be used as a benchmark to improve Morning and Evening shift processes.\n",
        "\n",
        "If not addressed, the performance gap during peak shifts like Evening could lead to customer frustration and dissatisfaction, especially if issue resolution is rushed or inconsistent, a direct risk to CSAT and customer retention."
      ],
      "metadata": {
        "id": "tBpY5ekJphqQ"
      }
    },
    {
      "cell_type": "markdown",
      "source": [
        "#### **10. Impact of CSAT w.r.t Handling Time**"
      ],
      "metadata": {
        "id": "U2RJ9gkRphqQ"
      }
    },
    {
      "cell_type": "code",
      "source": [
        "df_filtered = df[df['connected_handling_time'] <= 500]\n",
        "\n",
        "plt.figure(figsize=(10, 6))\n",
        "sns.boxplot(data=df_filtered, x='CSAT Score', y='connected_handling_time', palette='coolwarm')\n",
        "plt.title(\"Boxplot: Handling Time vs CSAT Score\")\n",
        "plt.xlabel(\"CSAT Score\")\n",
        "plt.ylabel(\"Handling Time (Minutes)\")\n",
        "plt.grid(axis='y', linestyle='--', alpha=0.5)\n",
        "plt.tight_layout()\n",
        "plt.show()\n"
      ],
      "metadata": {
        "id": "GM7a4YP4phqQ",
        "colab": {
          "base_uri": "https://localhost:8080/",
          "height": 528
        },
        "outputId": "bf7779b4-cb4a-4ec0-9757-304a1c3e5208"
      },
      "execution_count": 22,
      "outputs": [
        {
          "output_type": "display_data",
          "data": {
            "text/plain": [
              "<Figure size 1000x600 with 1 Axes>"
            ],
            "image/png": "[encoded data removed]"
          },
          "metadata": {}
        }
      ]
    },
    {
      "cell_type": "markdown",
      "source": [
        "##### 1. Why did you pick the specific chart?"
      ],
      "metadata": {
        "id": "1M8mcRywphqQ"
      }
    },
    {
      "cell_type": "markdown",
      "source": [
        "We chose  boxplot because it allows us to clearly observe the distribution and spread of handling times across different CSAT score levels. It visualizes key statistical markers like the median, interquartile range, and outliers, helping us understand whether longer or shorter handling durations impact customer satisfaction.`"
      ],
      "metadata": {
        "id": "8agQvks0phqQ"
      }
    },
    {
      "cell_type": "markdown",
      "source": [
        "##### 2. What is/are the insight(s) found from the chart?"
      ],
      "metadata": {
        "id": "tgIPom80phqQ"
      }
    },
    {
      "cell_type": "markdown",
      "source": [
        "The boxplot reveals a few interesting findings:\n",
        "\n",
        "* Tickets rated 3, 4, and 5 generally have higher median handling times compared to tickets rated 1 or 2.\n",
        "\n",
        "* 1-star and 2-star rated tickets were resolved relatively quickly, suggesting that short handling time does not always indicate quality resolution.\n",
        "\n",
        "* Higher CSAT scores (especially 5) have a wider spread of handling times, meaning customers were still satisfied even when the resolution took longer.\n",
        "\n",
        "This shows that speed is not the only factor in customer satisfaction. Quality and Completeness of the resolution may matter more."
      ],
      "metadata": {
        "id": "Qp13pnNzphqQ"
      }
    },
    {
      "cell_type": "markdown",
      "source": [
        "##### 3. Will the gained insights help creating a positive business impact?\n",
        "Are there any insights that lead to negative growth? Justify with specific reason."
      ],
      "metadata": {
        "id": "JMzcOPDDphqR"
      }
    },
    {
      "cell_type": "markdown",
      "source": [
        "Yes, this insight can help businesses rethink how they measure support efficiency. Instead of pushing agents to close tickets faster, the focus should shift toward effective resolution, even if it takes more time.\n",
        "\n",
        "If misunderstood, the push for low handling time might lead to rushed or incomplete solutions, which could explain the low CSAT scores for some quickly closed tickets. This would result in negative customer experiences and potential churn, contributing to negative growth over time."
      ],
      "metadata": {
        "id": "R4Ka1PC2phqR"
      }
    },
    {
      "cell_type": "markdown",
      "source": [
        "#### **11. Count of 1-Star CSAT Score by Tenure Bucket**"
      ],
      "metadata": {
        "id": "x-EpHcCOp1ci"
      }
    },
    {
      "cell_type": "code",
      "source": [
        "# Lets filter the dataframe for 1-star CSAT scores and handling time less than 300 minutes and plot a graph\n",
        "low_csat_short_handling = df[(df['CSAT Score'] == 1) & (df['connected_handling_time'] < 300)]\n",
        "\n",
        "plt.figure(figsize=(10, 6))\n",
        "sns.countplot(data=low_csat_short_handling, x='Tenure Bucket', palette='viridis')\n",
        "plt.title('Count of 1-Star CSAT (< 300 mins handling) by Tenure Bucket')\n",
        "plt.xlabel('Agent Tenure Bucket')\n",
        "plt.ylabel('Count of 1-Star Interactions')\n",
        "plt.xticks(rotation=45)\n",
        "plt.tight_layout()\n",
        "plt.show()"
      ],
      "metadata": {
        "id": "mAQTIvtqp1cj",
        "colab": {
          "base_uri": "https://localhost:8080/",
          "height": 528
        },
        "outputId": "b021b11c-9743-456a-d08d-c9ef958f9687"
      },
      "execution_count": 23,
      "outputs": [
        {
          "output_type": "display_data",
          "data": {
            "text/plain": [
              "<Figure size 1000x600 with 1 Axes>"
            ],
            "image/png": "[encoded data removed]"
          },
          "metadata": {}
        }
      ]
    },
    {
      "cell_type": "markdown",
      "source": [
        "##### 1. Why did you pick the specific chart?"
      ],
      "metadata": {
        "id": "X_VqEhTip1ck"
      }
    },
    {
      "cell_type": "markdown",
      "source": [
        "We selected this countplot because it focuses on a very specific and critical scenario — 1-star CSAT ratings for cases that had short handling times (< 300 mins), broken down by agent experience (tenure bucket). This helps isolate instances where customers were unhappy despite the interaction being resolved quickly, pointing to quality issues rather than speed problems. It's a strategic chart for understanding where fast but poor service might be happening."
      ],
      "metadata": {
        "id": "-vsMzt_np1ck"
      }
    },
    {
      "cell_type": "markdown",
      "source": [
        "##### 2. What is/are the insight(s) found from the chart?"
      ],
      "metadata": {
        "id": "8zGJKyg5p1ck"
      }
    },
    {
      "cell_type": "markdown",
      "source": [
        "From the chart, we can see that:\n",
        "\n",
        "* Agents in the \">90 days\" tenure group contributed to the majority of short-handled 1-star ratings.\n",
        "\n",
        "* Surprisingly, mid-experience groups like \"31–60\" and \"61–90\" had fewer such cases, suggesting they may handle quick resolutions more effectively.\n",
        "\n",
        "* This challenges the common assumption that more experience always equals better performance — here, experienced agents are more likely to rush cases and leave customers unsatisfied.\n",
        "\n"
      ],
      "metadata": {
        "id": "ZYdMsrqVp1ck"
      }
    },
    {
      "cell_type": "markdown",
      "source": [
        "##### 3. Will the gained insights help creating a positive business impact?\n",
        "Are there any insights that lead to negative growth? Justify with specific reason."
      ],
      "metadata": {
        "id": "PVzmfK_Ep1ck"
      }
    },
    {
      "cell_type": "markdown",
      "source": [
        "Yes, this insight is highly impactful. It indicates that:\n",
        "\n",
        "* Even experienced agents may need reminders to prioritize quality, especially when working through tickets quickly.\n",
        "\n",
        "* Targeted retraining for long-tenured agents can help reduce rushed and poorly resolved interactions.\n",
        "\n",
        "If ignored, this could lead to negative growth, especially if loyal customers are served by experienced agents but still receive dissatisfying resolutions, which can damage trust more than if it came from a new hire."
      ],
      "metadata": {
        "id": "druuKYZpp1ck"
      }
    },
    {
      "cell_type": "markdown",
      "source": [
        "#### **12. Impact of CSAT w.r.t Bottom Supervisors Perfomance**"
      ],
      "metadata": {
        "id": "n3dbpmDWp1ck"
      }
    },
    {
      "cell_type": "code",
      "source": [
        "# Group by Supervisor and calculate the mean CSAT Score\n",
        "supervisor_csat = df.groupby('Supervisor')['CSAT Score'].mean()\n",
        "\n",
        "# Sort in ascending order to find bottom performers and select the top 10\n",
        "bottom_supervisors = supervisor_csat.sort_values(ascending=True).head(10)\n",
        "\n",
        "# Create a horizontal bar plot for the bottom 10 supervisors\n",
        "plt.figure(figsize=(10, 6))\n",
        "bottom_supervisors.plot(kind='barh')\n",
        "plt.title('Bottom 10 Supervisors by Avg CSAT Score')\n",
        "plt.xlabel('Average CSAT Score')\n",
        "plt.ylabel('Supervisor Name')\n",
        "plt.tight_layout()\n",
        "plt.show()"
      ],
      "metadata": {
        "id": "bwevp1tKp1ck",
        "colab": {
          "base_uri": "https://localhost:8080/",
          "height": 528
        },
        "outputId": "8ebd85c0-db7c-4d8e-e31c-a247898f6e59"
      },
      "execution_count": 24,
      "outputs": [
        {
          "output_type": "display_data",
          "data": {
            "text/plain": [
              "<Figure size 1000x600 with 1 Axes>"
            ],
            "image/png": "[encoded data removed]"
          },
          "metadata": {}
        }
      ]
    },
    {
      "cell_type": "markdown",
      "source": [
        "Everyone seems to be in a 4.0 or above range except for Oliver Nguyen, let's analyze him in detail"
      ],
      "metadata": {
        "id": "EnB-F-y3Eupx"
      }
    },
    {
      "cell_type": "code",
      "source": [
        "# Lets filter the dataframe for the supervisor 'Oliver Nguyen'\n",
        "olivers_agents = df[df['Supervisor'] == 'Oliver Nguyen']\n",
        "\n",
        "# Now lets get the agents under this supervisor\n",
        "agents_on = olivers_agents['Agent_name'].unique()\n",
        "print(\"Agents under Supervisor Oliver Nguyen:\")\n",
        "for agent in agents_on:\n",
        "    print(agent)"
      ],
      "metadata": {
        "colab": {
          "base_uri": "https://localhost:8080/"
        },
        "id": "0ci2ptWXE7IK",
        "outputId": "277e5342-e395-4468-e000-e65ed0d35eef"
      },
      "execution_count": 25,
      "outputs": [
        {
          "output_type": "stream",
          "name": "stdout",
          "text": [
            "Agents under Supervisor Oliver Nguyen:\n",
            "Christopher Mcintosh\n",
            "Willie Flores\n",
            "Laura Allen\n",
            "Rebecca Miller\n",
            "James Chung\n",
            "Nicole Zavala\n"
          ]
        }
      ]
    },
    {
      "cell_type": "markdown",
      "source": [
        "These are the agents under the supervision of Oliver Nguyen. Lets see their perfomance by analyzing their average CSAT scores, it should provide a better view of Oliver's Supervision."
      ],
      "metadata": {
        "id": "opsuQpmDE_kZ"
      }
    },
    {
      "cell_type": "code",
      "source": [
        "# Lets group the data by Agent_name and calculate the mean CSAT Score for each agent\n",
        "agentO_csat = olivers_agents.groupby('Agent_name')['CSAT Score'].mean()\n",
        "print(\"Average CSAT Score for each Agent under Supervisor Oliver Nguyen:\")\n",
        "display(agentO_csat)"
      ],
      "metadata": {
        "colab": {
          "base_uri": "https://localhost:8080/",
          "height": 321
        },
        "id": "tjh9RvzBFOVr",
        "outputId": "68bdf14a-46ad-4c1f-c73c-cc405966bfa9"
      },
      "execution_count": 26,
      "outputs": [
        {
          "output_type": "stream",
          "name": "stdout",
          "text": [
            "Average CSAT Score for each Agent under Supervisor Oliver Nguyen:\n"
          ]
        },
        {
          "output_type": "display_data",
          "data": {
            "text/plain": [
              "Agent_name\n",
              "Christopher Mcintosh    4.159091\n",
              "James Chung             4.010870\n",
              "Laura Allen             3.568182\n",
              "Nicole Zavala           2.250000\n",
              "Rebecca Miller          1.857143\n",
              "Willie Flores           2.500000\n",
              "Name: CSAT Score, dtype: float64"
            ],
            "text/html": [
              "<div>\n",
              "<style scoped>\n",
              "    .dataframe tbody tr th:only-of-type {\n",
              "        vertical-align: middle;\n",
              "    }\n",
              "\n",
              "    .dataframe tbody tr th {\n",
              "        vertical-align: top;\n",
              "    }\n",
              "\n",
              "    .dataframe thead th {\n",
              "        text-align: right;\n",
              "    }\n",
              "</style>\n",
              "<table border=\"1\" class=\"dataframe\">\n",
              "  <thead>\n",
              "    <tr style=\"text-align: right;\">\n",
              "      <th></th>\n",
              "      <th>CSAT Score</th>\n",
              "    </tr>\n",
              "    <tr>\n",
              "      <th>Agent_name</th>\n",
              "      <th></th>\n",
              "    </tr>\n",
              "  </thead>\n",
              "  <tbody>\n",
              "    <tr>\n",
              "      <th>Christopher Mcintosh</th>\n",
              "      <td>4.159091</td>\n",
              "    </tr>\n",
              "    <tr>\n",
              "      <th>James Chung</th>\n",
              "      <td>4.010870</td>\n",
              "    </tr>\n",
              "    <tr>\n",
              "      <th>Laura Allen</th>\n",
              "      <td>3.568182</td>\n",
              "    </tr>\n",
              "    <tr>\n",
              "      <th>Nicole Zavala</th>\n",
              "      <td>2.250000</td>\n",
              "    </tr>\n",
              "    <tr>\n",
              "      <th>Rebecca Miller</th>\n",
              "      <td>1.857143</td>\n",
              "    </tr>\n",
              "    <tr>\n",
              "      <th>Willie Flores</th>\n",
              "      <td>2.500000</td>\n",
              "    </tr>\n",
              "  </tbody>\n",
              "</table>\n",
              "</div><br><label><b>dtype:</b> float64</label>"
            ]
          },
          "metadata": {}
        }
      ]
    },
    {
      "cell_type": "markdown",
      "source": [
        "From this we can see that although Oliver has two good agents under him and the rest are doing very bad in terms of CSAT scores scoring 3.5 and below. Now it may be that Oliver has gotten unlucky in his agent choices but luck doesnt come in statistics and Oliver, as a supervisor is responsible for the CSAT scores of his agents and hence has to be taken into account and trained better or whatever may it be to improve the overall CSAT scores"
      ],
      "metadata": {
        "id": "A1r8JCyXFUDs"
      }
    },
    {
      "cell_type": "markdown",
      "source": [
        "##### 1. Why did you pick the specific chart?"
      ],
      "metadata": {
        "id": "ylSl6qgtp1ck"
      }
    },
    {
      "cell_type": "markdown",
      "source": [
        "We chose a horizontal bar chart to highlight the bottom 10 supervisors based on their average CSAT scores. This format is ideal for comparing supervisors with longer names and easily spotting which ones are consistently leading underperforming teams. It gives a clear view of performance gaps at the supervisory level, which is crucial for understanding leadership impact on customer satisfaction."
      ],
      "metadata": {
        "id": "m2xqNkiQp1ck"
      }
    },
    {
      "cell_type": "markdown",
      "source": [
        "##### 2. What is/are the insight(s) found from the chart?"
      ],
      "metadata": {
        "id": "ZWILFDl5p1ck"
      }
    },
    {
      "cell_type": "markdown",
      "source": [
        "The chart reveals that:\n",
        "\n",
        "* Certain supervisors are repeatedly associated with low average CSAT scores, and these are worth investigating further.\n",
        "\n",
        "\n",
        "* One standout case is Oliver Nguyen, who appears in the bottom 10 list.\n",
        "\n",
        "* A deeper dive into Oliver Nguyen’s team showed a mixed performance as some agents under him were performing fairly well, but others consistently received 1-star ratings, which significantly pulled down the supervisor’s average.\n",
        "\n",
        "This suggests that the low CSAT is not necessarily due to the supervisor’s strategy alone, but rather a lack of targeted support for underperforming agents under their supervision."
      ],
      "metadata": {
        "id": "x-lUsV2mp1ck"
      }
    },
    {
      "cell_type": "markdown",
      "source": [
        "##### 3. Will the gained insights help creating a positive business impact?\n",
        "Are there any insights that lead to negative growth? Justify with specific reason."
      ],
      "metadata": {
        "id": "M7G43BXep1ck"
      }
    },
    {
      "cell_type": "markdown",
      "source": [
        "Yes, these insights can have a strong positive impact:\n",
        "\n",
        "* By identifying low-performing supervisors, the business can introduce managerial training, performance reviews, or realignment of team structures.\n",
        "\n",
        "* In the Oliver Nguyen case, instead of holding the supervisor solely accountable, a targeted intervention for specific agents under their team can lift the overall performance.\n",
        "\n",
        "If these patterns are ignored, supervisors managing underperforming agents may continue to receive poor customer feedback, leading to negative customer experiences, increased churn, and deterioration of team morale and brand trust, ultimately contributing to negative business growth.\n",
        "\n"
      ],
      "metadata": {
        "id": "5wwDJXsLp1cl"
      }
    },
    {
      "cell_type": "markdown",
      "source": [
        "#### **13. Impact of CSAT w.r.t Top Supervisors Perfomance**"
      ],
      "metadata": {
        "id": "Ag9LCva-p1cl"
      }
    },
    {
      "cell_type": "code",
      "source": [
        "# Sort in descending order to find top performers and select the top 10\n",
        "top_supervisors = supervisor_csat.sort_values(ascending=False).head(10)\n",
        "\n",
        "# Create a horizontal bar plot for the top 10 supervisors\n",
        "plt.figure(figsize=(10, 6))\n",
        "top_supervisors.plot(kind='barh')\n",
        "plt.title('Top 10 Supervisors by Avg CSAT Score')\n",
        "plt.xlabel('Average CSAT Score')\n",
        "plt.ylabel('Supervisor Name')\n",
        "plt.tight_layout()\n",
        "plt.show()"
      ],
      "metadata": {
        "id": "EUfxeq9-p1cl",
        "colab": {
          "base_uri": "https://localhost:8080/",
          "height": 527
        },
        "outputId": "a55d6838-0774-4889-cc65-029e6ce076d1"
      },
      "execution_count": 27,
      "outputs": [
        {
          "output_type": "display_data",
          "data": {
            "text/plain": [
              "<Figure size 1000x600 with 1 Axes>"
            ],
            "image/png": "[encoded data removed]"
          },
          "metadata": {}
        }
      ]
    },
    {
      "cell_type": "markdown",
      "source": [
        "##### 1. Why did you pick the specific chart?"
      ],
      "metadata": {
        "id": "E6MkPsBcp1cl"
      }
    },
    {
      "cell_type": "markdown",
      "source": [
        "We chose a horizontal bar chart to visualize the top 10 supervisors ranked by their average CSAT scores. This format makes it easy to compare supervisors with long names, and it clearly highlights those who consistently lead high-performing teams. It’s effective for recognizing leadership excellence and for identifying strategies worth replicating across the organization."
      ],
      "metadata": {
        "id": "V22bRsFWp1cl"
      }
    },
    {
      "cell_type": "markdown",
      "source": [
        "##### 2. What is/are the insight(s) found from the chart?"
      ],
      "metadata": {
        "id": "2cELzS2fp1cl"
      }
    },
    {
      "cell_type": "markdown",
      "source": [
        "The chart shows that:\n",
        "\n",
        "* The top-performing supervisors maintain average CSAT scores very close to 5, which reflects strong leadership, effective agent mentoring, and consistent service quality.\n",
        "\n",
        "* These supervisors likely manage agents who not only resolve issues effectively but also maintain customer empathy and communication standards.\n",
        "\n",
        "* Their performance sets a benchmark for CSAT excellence and helps differentiate leadership styles that produce better customer outcomes."
      ],
      "metadata": {
        "id": "ozQPc2_Ip1cl"
      }
    },
    {
      "cell_type": "markdown",
      "source": [
        "##### 3. Will the gained insights help creating a positive business impact?\n",
        "Are there any insights that lead to negative growth? Justify with specific reason."
      ],
      "metadata": {
        "id": "3MPXvC8up1cl"
      }
    },
    {
      "cell_type": "markdown",
      "source": [
        "Yes, these insights are valuable for creating a strong positive business impact:\n",
        "\n",
        "* High-performing supervisors can be leveraged as role models and may be involved in cross-training other teams or in developing best practices frameworks.\n",
        "\n",
        "* Understanding what works in their teams (e.g., shift scheduling, escalation handling, coaching style) can be scaled across the company.\n",
        "\n",
        "Ignoring their contributions could result in missed opportunities for wider improvement, and failure to recognize these leaders could demotivate top performers. This could eventually lead to retention issues or stagnation in CSAT growth, indirectly contributing to negative outcomes.\n",
        "\n"
      ],
      "metadata": {
        "id": "GL8l1tdLp1cl"
      }
    },
    {
      "cell_type": "markdown",
      "source": [
        "#### **14. Additional Research**"
      ],
      "metadata": {
        "id": "XYw2DmkGIZo5"
      }
    },
    {
      "cell_type": "markdown",
      "source": [
        "Since the >90 Tenure Bucket had poor perfomance and lower CSAT scores compared to the 31-90 bucket, I wanted to see who their supervisor was so that maybe I can find a correlation between the variables and pinpoint out the main issue causing high 1-star ratings."
      ],
      "metadata": {
        "id": "7xDtW7NFIq6w"
      }
    },
    {
      "cell_type": "code",
      "source": [
        "# Filter the DataFrame for agents in the \">90\" tenure bucket\n",
        "experienced_agents_df = df[df['Tenure Bucket'] == '>90']\n",
        "\n",
        "# Group by Supervisor and calculate the mean CSAT Score for these experienced agents\n",
        "supervisor_csat_experienced = experienced_agents_df.groupby('Supervisor')['CSAT Score'].mean()\n",
        "\n",
        "# Display the average CSAT score for experienced agents under each supervisor\n",
        "print(\"Average CSAT Score for Experienced Agents (>90 Tenure) by Supervisor:\")\n",
        "display(supervisor_csat_experienced.sort_values(ascending=False).tail())"
      ],
      "metadata": {
        "colab": {
          "base_uri": "https://localhost:8080/",
          "height": 289
        },
        "id": "gRfI2TnJIlIV",
        "outputId": "7d86d3a9-2ce7-4447-dcd1-69523fbaf38a"
      },
      "execution_count": 28,
      "outputs": [
        {
          "output_type": "stream",
          "name": "stdout",
          "text": [
            "Average CSAT Score for Experienced Agents (>90 Tenure) by Supervisor:\n"
          ]
        },
        {
          "output_type": "display_data",
          "data": {
            "text/plain": [
              "Supervisor\n",
              "Charlotte Suzuki    3.931373\n",
              "Sophia Chen         3.924242\n",
              "Zoe Yamamoto        3.923789\n",
              "Emma Park           3.639937\n",
              "Oliver Nguyen       3.584000\n",
              "Name: CSAT Score, dtype: float64"
            ],
            "text/html": [
              "<div>\n",
              "<style scoped>\n",
              "    .dataframe tbody tr th:only-of-type {\n",
              "        vertical-align: middle;\n",
              "    }\n",
              "\n",
              "    .dataframe tbody tr th {\n",
              "        vertical-align: top;\n",
              "    }\n",
              "\n",
              "    .dataframe thead th {\n",
              "        text-align: right;\n",
              "    }\n",
              "</style>\n",
              "<table border=\"1\" class=\"dataframe\">\n",
              "  <thead>\n",
              "    <tr style=\"text-align: right;\">\n",
              "      <th></th>\n",
              "      <th>CSAT Score</th>\n",
              "    </tr>\n",
              "    <tr>\n",
              "      <th>Supervisor</th>\n",
              "      <th></th>\n",
              "    </tr>\n",
              "  </thead>\n",
              "  <tbody>\n",
              "    <tr>\n",
              "      <th>Charlotte Suzuki</th>\n",
              "      <td>3.931373</td>\n",
              "    </tr>\n",
              "    <tr>\n",
              "      <th>Sophia Chen</th>\n",
              "      <td>3.924242</td>\n",
              "    </tr>\n",
              "    <tr>\n",
              "      <th>Zoe Yamamoto</th>\n",
              "      <td>3.923789</td>\n",
              "    </tr>\n",
              "    <tr>\n",
              "      <th>Emma Park</th>\n",
              "      <td>3.639937</td>\n",
              "    </tr>\n",
              "    <tr>\n",
              "      <th>Oliver Nguyen</th>\n",
              "      <td>3.584000</td>\n",
              "    </tr>\n",
              "  </tbody>\n",
              "</table>\n",
              "</div><br><label><b>dtype:</b> float64</label>"
            ]
          },
          "metadata": {}
        }
      ]
    },
    {
      "cell_type": "markdown",
      "source": [
        "These are the supervisors handling the Experienced Agents and all manage to keep up 3.9 which is a near 4 average CSAT score except for Emma Park and the before mentioned Oliver Nguyen. Training both of them and the agents under them would for sure bring a very drastic uplift in the CSAT scores. Lets get even deeper and circle out the agents who are perfoming bad in this bucket."
      ],
      "metadata": {
        "id": "TfJM5-Q9JCZo"
      }
    },
    {
      "cell_type": "code",
      "source": [
        "# Filter the DataFrame for agents in the \">90\" tenure bucket (already have experienced_agents_df)\n",
        "\n",
        "# Group by Agent_name and calculate the mean CSAT Score for experienced agents\n",
        "agent_csat_experienced = experienced_agents_df.groupby('Agent_name')['CSAT Score'].mean()\n",
        "\n",
        "# Sort in ascending order to find the worst performers and select the bottom 18\n",
        "worst_experienced_agents = agent_csat_experienced.sort_values(ascending=True).head(18)\n",
        "\n",
        "# Display the worst performing experienced agents and their average CSAT scores\n",
        "print(\"Worst Performing Experienced Agents (>90 Tenure) by Avg CSAT Score:\")\n",
        "display(worst_experienced_agents)"
      ],
      "metadata": {
        "colab": {
          "base_uri": "https://localhost:8080/",
          "height": 697
        },
        "id": "VHJfbt3LJf7U",
        "outputId": "90d230e7-57f3-492b-cbdc-9310d64d06e7"
      },
      "execution_count": 29,
      "outputs": [
        {
          "output_type": "stream",
          "name": "stdout",
          "text": [
            "Worst Performing Experienced Agents (>90 Tenure) by Avg CSAT Score:\n"
          ]
        },
        {
          "output_type": "display_data",
          "data": {
            "text/plain": [
              "Agent_name\n",
              "Rebecca Miller        1.857143\n",
              "Philip Harmon         1.941176\n",
              "Curtis Mccarthy       2.100000\n",
              "Virginia Mccormick    2.129032\n",
              "Nicole Zavala         2.250000\n",
              "Wesley Meyer          2.259259\n",
              "Charles Morales       2.281250\n",
              "Tommy Davies          2.342857\n",
              "Pamela Perez          2.382353\n",
              "Willie Flores         2.500000\n",
              "Jason Wilson          2.500000\n",
              "Melissa Spence        2.500000\n",
              "Sarah Keller          2.527778\n",
              "Alyssa Jones          2.583333\n",
              "Veronica Anderson     2.636364\n",
              "Christine Castro      2.851852\n",
              "Curtis Hill           2.857143\n",
              "Jonathan Moore        2.909091\n",
              "Name: CSAT Score, dtype: float64"
            ],
            "text/html": [
              "<div>\n",
              "<style scoped>\n",
              "    .dataframe tbody tr th:only-of-type {\n",
              "        vertical-align: middle;\n",
              "    }\n",
              "\n",
              "    .dataframe tbody tr th {\n",
              "        vertical-align: top;\n",
              "    }\n",
              "\n",
              "    .dataframe thead th {\n",
              "        text-align: right;\n",
              "    }\n",
              "</style>\n",
              "<table border=\"1\" class=\"dataframe\">\n",
              "  <thead>\n",
              "    <tr style=\"text-align: right;\">\n",
              "      <th></th>\n",
              "      <th>CSAT Score</th>\n",
              "    </tr>\n",
              "    <tr>\n",
              "      <th>Agent_name</th>\n",
              "      <th></th>\n",
              "    </tr>\n",
              "  </thead>\n",
              "  <tbody>\n",
              "    <tr>\n",
              "      <th>Rebecca Miller</th>\n",
              "      <td>1.857143</td>\n",
              "    </tr>\n",
              "    <tr>\n",
              "      <th>Philip Harmon</th>\n",
              "      <td>1.941176</td>\n",
              "    </tr>\n",
              "    <tr>\n",
              "      <th>Curtis Mccarthy</th>\n",
              "      <td>2.100000</td>\n",
              "    </tr>\n",
              "    <tr>\n",
              "      <th>Virginia Mccormick</th>\n",
              "      <td>2.129032</td>\n",
              "    </tr>\n",
              "    <tr>\n",
              "      <th>Nicole Zavala</th>\n",
              "      <td>2.250000</td>\n",
              "    </tr>\n",
              "    <tr>\n",
              "      <th>Wesley Meyer</th>\n",
              "      <td>2.259259</td>\n",
              "    </tr>\n",
              "    <tr>\n",
              "      <th>Charles Morales</th>\n",
              "      <td>2.281250</td>\n",
              "    </tr>\n",
              "    <tr>\n",
              "      <th>Tommy Davies</th>\n",
              "      <td>2.342857</td>\n",
              "    </tr>\n",
              "    <tr>\n",
              "      <th>Pamela Perez</th>\n",
              "      <td>2.382353</td>\n",
              "    </tr>\n",
              "    <tr>\n",
              "      <th>Willie Flores</th>\n",
              "      <td>2.500000</td>\n",
              "    </tr>\n",
              "    <tr>\n",
              "      <th>Jason Wilson</th>\n",
              "      <td>2.500000</td>\n",
              "    </tr>\n",
              "    <tr>\n",
              "      <th>Melissa Spence</th>\n",
              "      <td>2.500000</td>\n",
              "    </tr>\n",
              "    <tr>\n",
              "      <th>Sarah Keller</th>\n",
              "      <td>2.527778</td>\n",
              "    </tr>\n",
              "    <tr>\n",
              "      <th>Alyssa Jones</th>\n",
              "      <td>2.583333</td>\n",
              "    </tr>\n",
              "    <tr>\n",
              "      <th>Veronica Anderson</th>\n",
              "      <td>2.636364</td>\n",
              "    </tr>\n",
              "    <tr>\n",
              "      <th>Christine Castro</th>\n",
              "      <td>2.851852</td>\n",
              "    </tr>\n",
              "    <tr>\n",
              "      <th>Curtis Hill</th>\n",
              "      <td>2.857143</td>\n",
              "    </tr>\n",
              "    <tr>\n",
              "      <th>Jonathan Moore</th>\n",
              "      <td>2.909091</td>\n",
              "    </tr>\n",
              "  </tbody>\n",
              "</table>\n",
              "</div><br><label><b>dtype:</b> float64</label>"
            ]
          },
          "metadata": {}
        }
      ]
    },
    {
      "cell_type": "markdown",
      "source": [
        "From this we can see all the bottom perfoming agents in the >90 Tenure Bucket. This can make the work easy for the company to target these individuals and retrain them and strengthen supervision around them and make sure they start perfoming well to bring on the significant increase in the CSAT scores."
      ],
      "metadata": {
        "id": "veUgpx5JJiSS"
      }
    },
    {
      "cell_type": "markdown",
      "source": [
        "## ***5. Hypothesis Testing***"
      ],
      "metadata": {
        "id": "g-ATYxFrGrvw"
      }
    },
    {
      "cell_type": "markdown",
      "source": [
        "### Hypothetical Statement"
      ],
      "metadata": {
        "id": "bn_IUdTipZyH"
      }
    },
    {
      "cell_type": "markdown",
      "source": [
        "#### 1. State Your research hypothesis as a null hypothesis and alternate hypothesis."
      ],
      "metadata": {
        "id": "49K5P_iCpZyH"
      }
    },
    {
      "cell_type": "markdown",
      "source": [
        "* Null Hypothesis (H₀):\n",
        "There is no significant difference in CSAT scores based on how long the issue was handled.\n",
        "(Handling time does not affect customer satisfaction.)\n",
        "\n",
        "* Alternate Hypothesis (H₁):\n",
        "There is a significant difference in CSAT scores depending on handling time.\n",
        "(Handling time does affect customer satisfaction.)"
      ],
      "metadata": {
        "id": "7gWI5rT9pZyH"
      }
    },
    {
      "cell_type": "markdown",
      "source": [
        "#### 2. Perform an appropriate statistical test."
      ],
      "metadata": {
        "id": "Nff-vKELpZyI"
      }
    },
    {
      "cell_type": "code",
      "source": [
        "import pandas as pd\n",
        "from scipy.stats import f_oneway\n",
        "\n",
        "# Step 1: Drop missing values in required columns\n",
        "df_cleaned = df[['connected_handling_time', 'CSAT Score']].dropna()\n",
        "\n",
        "# Step 2: Create handling time buckets\n",
        "df_cleaned['handling_bucket'] = pd.cut(df_cleaned['connected_handling_time'],\n",
        "                                       bins=[0, 10, 30, 60, 120, 300, 1000],\n",
        "                                       labels=['0-10', '10-30', '30-60', '60-120', '120-300', '300-1000'])\n",
        "\n",
        "# Step 3: Group CSAT scores by handling time bucket\n",
        "groups = [group['CSAT Score'].values for _, group in df_cleaned.groupby('handling_bucket') if len(group) >= 2]\n",
        "\n",
        "# Step 4: Run ANOVA\n",
        "f_stat, p_value = f_oneway(*groups)\n",
        "\n",
        "print(f\"F-statistic: {f_stat:.4f}\")\n",
        "print(f\"P-value: {p_value:.4f}\")\n",
        "if p_value < 0.05:\n",
        "    print(\"There is a significant difference in CSAT scores depending on handling time\")\n",
        "else:\n",
        "    print(\"There is no significant difference in CSAT scores depending on handling time\")"
      ],
      "metadata": {
        "id": "s6AnJQjtpZyI",
        "colab": {
          "base_uri": "https://localhost:8080/"
        },
        "outputId": "8ff523c8-bdf4-423b-d4ce-87d2eb82fb56"
      },
      "execution_count": 30,
      "outputs": [
        {
          "output_type": "stream",
          "name": "stdout",
          "text": [
            "F-statistic: 3.1406\n",
            "P-value: 0.0453\n",
            "There is a significant difference in CSAT scores depending on handling time\n"
          ]
        }
      ]
    },
    {
      "cell_type": "markdown",
      "source": [
        "##### Which statistical test have you done to obtain P-Value?"
      ],
      "metadata": {
        "id": "kLW572S8pZyI"
      }
    },
    {
      "cell_type": "markdown",
      "source": [
        "One way ANOVA"
      ],
      "metadata": {
        "id": "ytWJ8v15pZyI"
      }
    },
    {
      "cell_type": "markdown",
      "source": [
        "##### Why did you choose the specific statistical test?"
      ],
      "metadata": {
        "id": "dWbDXHzopZyI"
      }
    },
    {
      "cell_type": "markdown",
      "source": [
        "Because it allows us to compare CSAT scores across multiple handling time buckets"
      ],
      "metadata": {
        "id": "M99G98V6pZyI"
      }
    },
    {
      "cell_type": "markdown",
      "source": [
        "# **✅ Conclusion**\n",
        "\n",
        "In this project, we performed a comprehensive analysis of the given customer support data to understand the key factors influencing Customer Satisfaction (CSAT) scores. The goal was to extract actionable insights that could help improve customer service operations and decision-making.\n",
        "\n",
        "## Key Accomplishments\n",
        "\n",
        "- **Data Cleaning and Preprocessing:**\n",
        "  - Handled missing values by dropping incomplete rows for critical variables such as CSAT Score, response time, and handling time.\n",
        "  - Outliers in connected handling time and response time were removed to normalize the data.\n",
        "  - Log transformation was applied to skewed numerical features to stabilize variance.\n",
        "  - Categorical encoding and feature scaling were used to prepare the dataset for further analysis.\n",
        "\n",
        "- **Exploratory Data Analysis (EDA):**\n",
        "  - A strong inverse relationship was observed between **response time** and CSAT score; faster responses tend to yield higher customer satisfaction.\n",
        "  - **Email channels** performed worse in terms of CSAT compared to outbound and inbound calls.\n",
        "  - **Agent performance** was highly variable: top-performing agents had consistent high CSAT scores, while bottom agents significantly underperformed.\n",
        "  - **Manager and supervisor analysis** revealed performance variation between teams. In particular, some supervisors (like Oliver Nguyen) managed teams with highly inconsistent CSAT outcomes, indicating possible supervision or team training issues.\n",
        "  - Analysis of **agent tenure** showed that agents with 61–90 days of experience had better CSAT distributions, while very experienced agents (>90 days) and agents in training had more 1-star ratings. This counterintuitive result suggests that tenure alone is not a guarantee of quality.\n",
        "  - **Agent shift analysis** revealed that the Morning and Evening shifts received the highest number of interactions but also accounted for a greater proportion of 1-star scores. This suggests certain shifts may face higher workloads or more difficult interactions.\n",
        "  - **Handling time** did not have a straightforward relationship with CSAT. While longer handling time did not guarantee higher CSAT, extremely short handling times were often associated with 1-star ratings, especially among trainees and experienced agents, possibly indicating rushed or incomplete service.\n",
        "\n",
        "- **Statistical Testing:**\n",
        "  - Hypothesis testing using One-Way ANOVA confirmed that both response time and tenure bucket had statistically significant effects on CSAT score.\n",
        "  - These tests validated the insights from the visual EDA.\n",
        "\n",
        "## Business Insights\n",
        "\n",
        "- Prioritize reducing response times across all support channels to increase satisfaction.\n",
        "- Focus on quality assurance for **email support**, which underperforms compared to other channels.\n",
        "- Provide targeted support and coaching to underperforming agents and supervisors.\n",
        "- Reevaluate experienced agents and ensure they maintain service quality over time.\n",
        "- Investigate operational and workload-related issues across different **shifts** to prevent burnout or service inconsistency.\n",
        "- Reassess training methods and onboarding, especially for agents within the first 30 days.\n",
        "\n",
        "## Future Recommendations\n",
        "\n",
        "- Implement real-time CSAT dashboards for managers to track team performance.\n",
        "- Conduct regular training refreshers even for experienced agents.\n",
        "- Explore customer feedback text data (if available) for sentiment analysis using NLP.\n",
        "- Consider predictive modeling in the future to preemptively identify low-CSAT risk interactions (ML not implemented in this notebook).\n",
        "\n",
        "This analysis offers the company\n",
        " valuable direction on optimizing support processes, personnel management, and strategic planning to enhance customer satisfaction.\n"
      ],
      "metadata": {
        "id": "Fjb1IsQkh3yE"
      }
    }
  ]
}